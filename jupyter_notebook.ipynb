{
 "cells": [
  {
   "cell_type": "code",
   "execution_count": 143,
   "metadata": {
    "ExecuteTime": {
     "end_time": "2021-08-12T09:20:23.709079Z",
     "start_time": "2021-08-12T09:20:22.991300Z"
    },
    "colab": {
     "base_uri": "https://localhost:8080/",
     "height": 226
    },
    "executionInfo": {
     "elapsed": 364,
     "status": "ok",
     "timestamp": 1628743623893,
     "user": {
      "displayName": "Hafidh Soekma Ardiansyah",
      "photoUrl": "https://lh3.googleusercontent.com/a-/AOh14Gin-eP15hz0RSVdywgijS-FLFXprI3uQT6FVENejA=s64",
      "userId": "12754215697376892836"
     },
     "user_tz": -420
    },
    "id": "yS-00S-PoDE1",
    "outputId": "4320c831-5213-4721-e7e4-8e98fba1cfbb"
   },
   "outputs": [
    {
     "data": {
      "text/html": [
       "<div>\n",
       "<style scoped>\n",
       "    .dataframe tbody tr th:only-of-type {\n",
       "        vertical-align: middle;\n",
       "    }\n",
       "\n",
       "    .dataframe tbody tr th {\n",
       "        vertical-align: top;\n",
       "    }\n",
       "\n",
       "    .dataframe thead th {\n",
       "        text-align: right;\n",
       "    }\n",
       "</style>\n",
       "<table border=\"1\" class=\"dataframe\">\n",
       "  <thead>\n",
       "    <tr style=\"text-align: right;\">\n",
       "      <th></th>\n",
       "      <th>User_ID</th>\n",
       "      <th>Product_ID</th>\n",
       "      <th>Gender</th>\n",
       "      <th>Age</th>\n",
       "      <th>Occupation</th>\n",
       "      <th>City_Category</th>\n",
       "      <th>Stay_In_Current_City_Years</th>\n",
       "      <th>Marital_Status</th>\n",
       "      <th>Product_Category_1</th>\n",
       "      <th>Product_Category_2</th>\n",
       "      <th>Product_Category_3</th>\n",
       "      <th>Purchase</th>\n",
       "    </tr>\n",
       "  </thead>\n",
       "  <tbody>\n",
       "    <tr>\n",
       "      <th>0</th>\n",
       "      <td>1000001</td>\n",
       "      <td>P00069042</td>\n",
       "      <td>F</td>\n",
       "      <td>0-17</td>\n",
       "      <td>10</td>\n",
       "      <td>A</td>\n",
       "      <td>2</td>\n",
       "      <td>0</td>\n",
       "      <td>3</td>\n",
       "      <td>NaN</td>\n",
       "      <td>NaN</td>\n",
       "      <td>8370</td>\n",
       "    </tr>\n",
       "    <tr>\n",
       "      <th>1</th>\n",
       "      <td>1000001</td>\n",
       "      <td>P00248942</td>\n",
       "      <td>F</td>\n",
       "      <td>0-17</td>\n",
       "      <td>10</td>\n",
       "      <td>A</td>\n",
       "      <td>2</td>\n",
       "      <td>0</td>\n",
       "      <td>1</td>\n",
       "      <td>6.0</td>\n",
       "      <td>14.0</td>\n",
       "      <td>15200</td>\n",
       "    </tr>\n",
       "    <tr>\n",
       "      <th>2</th>\n",
       "      <td>1000001</td>\n",
       "      <td>P00087842</td>\n",
       "      <td>F</td>\n",
       "      <td>0-17</td>\n",
       "      <td>10</td>\n",
       "      <td>A</td>\n",
       "      <td>2</td>\n",
       "      <td>0</td>\n",
       "      <td>12</td>\n",
       "      <td>NaN</td>\n",
       "      <td>NaN</td>\n",
       "      <td>1422</td>\n",
       "    </tr>\n",
       "    <tr>\n",
       "      <th>3</th>\n",
       "      <td>1000001</td>\n",
       "      <td>P00085442</td>\n",
       "      <td>F</td>\n",
       "      <td>0-17</td>\n",
       "      <td>10</td>\n",
       "      <td>A</td>\n",
       "      <td>2</td>\n",
       "      <td>0</td>\n",
       "      <td>12</td>\n",
       "      <td>14.0</td>\n",
       "      <td>NaN</td>\n",
       "      <td>1057</td>\n",
       "    </tr>\n",
       "    <tr>\n",
       "      <th>4</th>\n",
       "      <td>1000002</td>\n",
       "      <td>P00285442</td>\n",
       "      <td>M</td>\n",
       "      <td>55+</td>\n",
       "      <td>16</td>\n",
       "      <td>C</td>\n",
       "      <td>4+</td>\n",
       "      <td>0</td>\n",
       "      <td>8</td>\n",
       "      <td>NaN</td>\n",
       "      <td>NaN</td>\n",
       "      <td>7969</td>\n",
       "    </tr>\n",
       "  </tbody>\n",
       "</table>\n",
       "</div>"
      ],
      "text/plain": [
       "   User_ID Product_ID Gender   Age  Occupation City_Category  \\\n",
       "0  1000001  P00069042      F  0-17          10             A   \n",
       "1  1000001  P00248942      F  0-17          10             A   \n",
       "2  1000001  P00087842      F  0-17          10             A   \n",
       "3  1000001  P00085442      F  0-17          10             A   \n",
       "4  1000002  P00285442      M   55+          16             C   \n",
       "\n",
       "  Stay_In_Current_City_Years  Marital_Status  Product_Category_1  \\\n",
       "0                          2               0                   3   \n",
       "1                          2               0                   1   \n",
       "2                          2               0                  12   \n",
       "3                          2               0                  12   \n",
       "4                         4+               0                   8   \n",
       "\n",
       "   Product_Category_2  Product_Category_3  Purchase  \n",
       "0                 NaN                 NaN      8370  \n",
       "1                 6.0                14.0     15200  \n",
       "2                 NaN                 NaN      1422  \n",
       "3                14.0                 NaN      1057  \n",
       "4                 NaN                 NaN      7969  "
      ]
     },
     "execution_count": 143,
     "metadata": {},
     "output_type": "execute_result"
    }
   ],
   "source": [
    "# Load Data Train\n",
    "import pandas as pd\n",
    "\n",
    "df = pd.read_csv(\"./data_train.csv\")\n",
    "df.head()"
   ]
  },
  {
   "cell_type": "code",
   "execution_count": 144,
   "metadata": {
    "ExecuteTime": {
     "end_time": "2021-08-12T09:20:23.856247Z",
     "start_time": "2021-08-12T09:20:23.709079Z"
    },
    "colab": {
     "base_uri": "https://localhost:8080/"
    },
    "executionInfo": {
     "elapsed": 18,
     "status": "ok",
     "timestamp": 1628743624232,
     "user": {
      "displayName": "Hafidh Soekma Ardiansyah",
      "photoUrl": "https://lh3.googleusercontent.com/a-/AOh14Gin-eP15hz0RSVdywgijS-FLFXprI3uQT6FVENejA=s64",
      "userId": "12754215697376892836"
     },
     "user_tz": -420
    },
    "id": "eJKSFMagoDE7",
    "outputId": "0cea3193-010d-4549-9b78-2813bd6a6789"
   },
   "outputs": [
    {
     "name": "stdout",
     "output_type": "stream",
     "text": [
      "<class 'pandas.core.frame.DataFrame'>\n",
      "RangeIndex: 550068 entries, 0 to 550067\n",
      "Data columns (total 12 columns):\n",
      " #   Column                      Non-Null Count   Dtype  \n",
      "---  ------                      --------------   -----  \n",
      " 0   User_ID                     550068 non-null  int64  \n",
      " 1   Product_ID                  550068 non-null  object \n",
      " 2   Gender                      550068 non-null  object \n",
      " 3   Age                         550068 non-null  object \n",
      " 4   Occupation                  550068 non-null  int64  \n",
      " 5   City_Category               550068 non-null  object \n",
      " 6   Stay_In_Current_City_Years  550068 non-null  object \n",
      " 7   Marital_Status              550068 non-null  int64  \n",
      " 8   Product_Category_1          550068 non-null  int64  \n",
      " 9   Product_Category_2          376430 non-null  float64\n",
      " 10  Product_Category_3          166821 non-null  float64\n",
      " 11  Purchase                    550068 non-null  int64  \n",
      "dtypes: float64(2), int64(5), object(5)\n",
      "memory usage: 50.4+ MB\n"
     ]
    }
   ],
   "source": [
    "# Print Info About Data Train\n",
    "df.info()"
   ]
  },
  {
   "cell_type": "code",
   "execution_count": 145,
   "metadata": {
    "ExecuteTime": {
     "end_time": "2021-08-12T09:20:24.056843Z",
     "start_time": "2021-08-12T09:20:23.856247Z"
    },
    "colab": {
     "base_uri": "https://localhost:8080/",
     "height": 300
    },
    "executionInfo": {
     "elapsed": 459,
     "status": "ok",
     "timestamp": 1628743624680,
     "user": {
      "displayName": "Hafidh Soekma Ardiansyah",
      "photoUrl": "https://lh3.googleusercontent.com/a-/AOh14Gin-eP15hz0RSVdywgijS-FLFXprI3uQT6FVENejA=s64",
      "userId": "12754215697376892836"
     },
     "user_tz": -420
    },
    "id": "OGKarfNqoDE-",
    "outputId": "0dafb363-ec9b-4adf-8b21-10d6b3ae802e"
   },
   "outputs": [
    {
     "data": {
      "text/html": [
       "<div>\n",
       "<style scoped>\n",
       "    .dataframe tbody tr th:only-of-type {\n",
       "        vertical-align: middle;\n",
       "    }\n",
       "\n",
       "    .dataframe tbody tr th {\n",
       "        vertical-align: top;\n",
       "    }\n",
       "\n",
       "    .dataframe thead th {\n",
       "        text-align: right;\n",
       "    }\n",
       "</style>\n",
       "<table border=\"1\" class=\"dataframe\">\n",
       "  <thead>\n",
       "    <tr style=\"text-align: right;\">\n",
       "      <th></th>\n",
       "      <th>User_ID</th>\n",
       "      <th>Occupation</th>\n",
       "      <th>Marital_Status</th>\n",
       "      <th>Product_Category_1</th>\n",
       "      <th>Product_Category_2</th>\n",
       "      <th>Product_Category_3</th>\n",
       "      <th>Purchase</th>\n",
       "    </tr>\n",
       "  </thead>\n",
       "  <tbody>\n",
       "    <tr>\n",
       "      <th>count</th>\n",
       "      <td>5.500680e+05</td>\n",
       "      <td>550068.000000</td>\n",
       "      <td>550068.000000</td>\n",
       "      <td>550068.000000</td>\n",
       "      <td>376430.000000</td>\n",
       "      <td>166821.000000</td>\n",
       "      <td>550068.000000</td>\n",
       "    </tr>\n",
       "    <tr>\n",
       "      <th>mean</th>\n",
       "      <td>1.003029e+06</td>\n",
       "      <td>8.076707</td>\n",
       "      <td>0.409653</td>\n",
       "      <td>5.404270</td>\n",
       "      <td>9.842329</td>\n",
       "      <td>12.668243</td>\n",
       "      <td>9263.968713</td>\n",
       "    </tr>\n",
       "    <tr>\n",
       "      <th>std</th>\n",
       "      <td>1.727592e+03</td>\n",
       "      <td>6.522660</td>\n",
       "      <td>0.491770</td>\n",
       "      <td>3.936211</td>\n",
       "      <td>5.086590</td>\n",
       "      <td>4.125338</td>\n",
       "      <td>5023.065394</td>\n",
       "    </tr>\n",
       "    <tr>\n",
       "      <th>min</th>\n",
       "      <td>1.000001e+06</td>\n",
       "      <td>0.000000</td>\n",
       "      <td>0.000000</td>\n",
       "      <td>1.000000</td>\n",
       "      <td>2.000000</td>\n",
       "      <td>3.000000</td>\n",
       "      <td>12.000000</td>\n",
       "    </tr>\n",
       "    <tr>\n",
       "      <th>25%</th>\n",
       "      <td>1.001516e+06</td>\n",
       "      <td>2.000000</td>\n",
       "      <td>0.000000</td>\n",
       "      <td>1.000000</td>\n",
       "      <td>5.000000</td>\n",
       "      <td>9.000000</td>\n",
       "      <td>5823.000000</td>\n",
       "    </tr>\n",
       "    <tr>\n",
       "      <th>50%</th>\n",
       "      <td>1.003077e+06</td>\n",
       "      <td>7.000000</td>\n",
       "      <td>0.000000</td>\n",
       "      <td>5.000000</td>\n",
       "      <td>9.000000</td>\n",
       "      <td>14.000000</td>\n",
       "      <td>8047.000000</td>\n",
       "    </tr>\n",
       "    <tr>\n",
       "      <th>75%</th>\n",
       "      <td>1.004478e+06</td>\n",
       "      <td>14.000000</td>\n",
       "      <td>1.000000</td>\n",
       "      <td>8.000000</td>\n",
       "      <td>15.000000</td>\n",
       "      <td>16.000000</td>\n",
       "      <td>12054.000000</td>\n",
       "    </tr>\n",
       "    <tr>\n",
       "      <th>max</th>\n",
       "      <td>1.006040e+06</td>\n",
       "      <td>20.000000</td>\n",
       "      <td>1.000000</td>\n",
       "      <td>20.000000</td>\n",
       "      <td>18.000000</td>\n",
       "      <td>18.000000</td>\n",
       "      <td>23961.000000</td>\n",
       "    </tr>\n",
       "  </tbody>\n",
       "</table>\n",
       "</div>"
      ],
      "text/plain": [
       "            User_ID     Occupation  Marital_Status  Product_Category_1  \\\n",
       "count  5.500680e+05  550068.000000   550068.000000       550068.000000   \n",
       "mean   1.003029e+06       8.076707        0.409653            5.404270   \n",
       "std    1.727592e+03       6.522660        0.491770            3.936211   \n",
       "min    1.000001e+06       0.000000        0.000000            1.000000   \n",
       "25%    1.001516e+06       2.000000        0.000000            1.000000   \n",
       "50%    1.003077e+06       7.000000        0.000000            5.000000   \n",
       "75%    1.004478e+06      14.000000        1.000000            8.000000   \n",
       "max    1.006040e+06      20.000000        1.000000           20.000000   \n",
       "\n",
       "       Product_Category_2  Product_Category_3       Purchase  \n",
       "count       376430.000000       166821.000000  550068.000000  \n",
       "mean             9.842329           12.668243    9263.968713  \n",
       "std              5.086590            4.125338    5023.065394  \n",
       "min              2.000000            3.000000      12.000000  \n",
       "25%              5.000000            9.000000    5823.000000  \n",
       "50%              9.000000           14.000000    8047.000000  \n",
       "75%             15.000000           16.000000   12054.000000  \n",
       "max             18.000000           18.000000   23961.000000  "
      ]
     },
     "execution_count": 145,
     "metadata": {},
     "output_type": "execute_result"
    }
   ],
   "source": [
    "# Print Describe of Data Train\n",
    "df.describe()"
   ]
  },
  {
   "cell_type": "code",
   "execution_count": 146,
   "metadata": {
    "ExecuteTime": {
     "end_time": "2021-08-12T09:20:25.273777Z",
     "start_time": "2021-08-12T09:20:24.056843Z"
    },
    "colab": {
     "base_uri": "https://localhost:8080/",
     "height": 937
    },
    "executionInfo": {
     "elapsed": 1247,
     "status": "ok",
     "timestamp": 1628743625903,
     "user": {
      "displayName": "Hafidh Soekma Ardiansyah",
      "photoUrl": "https://lh3.googleusercontent.com/a-/AOh14Gin-eP15hz0RSVdywgijS-FLFXprI3uQT6FVENejA=s64",
      "userId": "12754215697376892836"
     },
     "user_tz": -420
    },
    "id": "E4_P_6eDoDE_",
    "outputId": "cd2a3a93-b077-4bf6-f928-bde07670f62a",
    "scrolled": false
   },
   "outputs": [
    {
     "data": {
      "image/png": "[encoded data removed]",
      "text/plain": [
       "<Figure size 2160x1440 with 2 Axes>"
      ]
     },
     "metadata": {},
     "output_type": "display_data"
    }
   ],
   "source": [
    "# Check Correlation of Data Train\n",
    "plt.figure(figsize=(30, 20))\n",
    "sns.heatmap(data=df.corr().round(2), annot=True)\n",
    "plt.title('Correlation of All Columns Data Train')\n",
    "plt.show()"
   ]
  },
  {
   "cell_type": "code",
   "execution_count": 147,
   "metadata": {
    "ExecuteTime": {
     "end_time": "2021-08-12T09:20:25.336280Z",
     "start_time": "2021-08-12T09:20:25.273777Z"
    }
   },
   "outputs": [
    {
     "data": {
      "text/html": [
       "<div>\n",
       "<style scoped>\n",
       "    .dataframe tbody tr th:only-of-type {\n",
       "        vertical-align: middle;\n",
       "    }\n",
       "\n",
       "    .dataframe tbody tr th {\n",
       "        vertical-align: top;\n",
       "    }\n",
       "\n",
       "    .dataframe thead th {\n",
       "        text-align: right;\n",
       "    }\n",
       "</style>\n",
       "<table border=\"1\" class=\"dataframe\">\n",
       "  <thead>\n",
       "    <tr style=\"text-align: right;\">\n",
       "      <th></th>\n",
       "      <th>Gender</th>\n",
       "      <th>Age</th>\n",
       "      <th>Occupation</th>\n",
       "      <th>City_Category</th>\n",
       "      <th>Stay_In_Current_City_Years</th>\n",
       "      <th>Marital_Status</th>\n",
       "      <th>Product_Category_1</th>\n",
       "      <th>Product_Category_2</th>\n",
       "      <th>Product_Category_3</th>\n",
       "      <th>Purchase</th>\n",
       "    </tr>\n",
       "  </thead>\n",
       "  <tbody>\n",
       "    <tr>\n",
       "      <th>0</th>\n",
       "      <td>F</td>\n",
       "      <td>0-17</td>\n",
       "      <td>10</td>\n",
       "      <td>A</td>\n",
       "      <td>2</td>\n",
       "      <td>0</td>\n",
       "      <td>3</td>\n",
       "      <td>NaN</td>\n",
       "      <td>NaN</td>\n",
       "      <td>8370</td>\n",
       "    </tr>\n",
       "    <tr>\n",
       "      <th>1</th>\n",
       "      <td>F</td>\n",
       "      <td>0-17</td>\n",
       "      <td>10</td>\n",
       "      <td>A</td>\n",
       "      <td>2</td>\n",
       "      <td>0</td>\n",
       "      <td>1</td>\n",
       "      <td>6.0</td>\n",
       "      <td>14.0</td>\n",
       "      <td>15200</td>\n",
       "    </tr>\n",
       "    <tr>\n",
       "      <th>2</th>\n",
       "      <td>F</td>\n",
       "      <td>0-17</td>\n",
       "      <td>10</td>\n",
       "      <td>A</td>\n",
       "      <td>2</td>\n",
       "      <td>0</td>\n",
       "      <td>12</td>\n",
       "      <td>NaN</td>\n",
       "      <td>NaN</td>\n",
       "      <td>1422</td>\n",
       "    </tr>\n",
       "    <tr>\n",
       "      <th>3</th>\n",
       "      <td>F</td>\n",
       "      <td>0-17</td>\n",
       "      <td>10</td>\n",
       "      <td>A</td>\n",
       "      <td>2</td>\n",
       "      <td>0</td>\n",
       "      <td>12</td>\n",
       "      <td>14.0</td>\n",
       "      <td>NaN</td>\n",
       "      <td>1057</td>\n",
       "    </tr>\n",
       "    <tr>\n",
       "      <th>4</th>\n",
       "      <td>M</td>\n",
       "      <td>55+</td>\n",
       "      <td>16</td>\n",
       "      <td>C</td>\n",
       "      <td>4+</td>\n",
       "      <td>0</td>\n",
       "      <td>8</td>\n",
       "      <td>NaN</td>\n",
       "      <td>NaN</td>\n",
       "      <td>7969</td>\n",
       "    </tr>\n",
       "  </tbody>\n",
       "</table>\n",
       "</div>"
      ],
      "text/plain": [
       "  Gender   Age  Occupation City_Category Stay_In_Current_City_Years  \\\n",
       "0      F  0-17          10             A                          2   \n",
       "1      F  0-17          10             A                          2   \n",
       "2      F  0-17          10             A                          2   \n",
       "3      F  0-17          10             A                          2   \n",
       "4      M   55+          16             C                         4+   \n",
       "\n",
       "   Marital_Status  Product_Category_1  Product_Category_2  Product_Category_3  \\\n",
       "0               0                   3                 NaN                 NaN   \n",
       "1               0                   1                 6.0                14.0   \n",
       "2               0                  12                 NaN                 NaN   \n",
       "3               0                  12                14.0                 NaN   \n",
       "4               0                   8                 NaN                 NaN   \n",
       "\n",
       "   Purchase  \n",
       "0      8370  \n",
       "1     15200  \n",
       "2      1422  \n",
       "3      1057  \n",
       "4      7969  "
      ]
     },
     "execution_count": 147,
     "metadata": {},
     "output_type": "execute_result"
    }
   ],
   "source": [
    "# Drop Some Columns\n",
    "df.drop(columns=[\"User_ID\", \"Product_ID\"], inplace=True)\n",
    "df.head()"
   ]
  },
  {
   "cell_type": "code",
   "execution_count": 148,
   "metadata": {
    "ExecuteTime": {
     "end_time": "2021-08-12T09:20:25.351903Z",
     "start_time": "2021-08-12T09:20:25.336280Z"
    },
    "colab": {
     "base_uri": "https://localhost:8080/"
    },
    "executionInfo": {
     "elapsed": 75,
     "status": "ok",
     "timestamp": 1628743625907,
     "user": {
      "displayName": "Hafidh Soekma Ardiansyah",
      "photoUrl": "https://lh3.googleusercontent.com/a-/AOh14Gin-eP15hz0RSVdywgijS-FLFXprI3uQT6FVENejA=s64",
      "userId": "12754215697376892836"
     },
     "user_tz": -420
    },
    "id": "yCAazzwYoDFE",
    "outputId": "d7446507-ac4f-4cbd-b9d9-9b2c67eb9278"
   },
   "outputs": [
    {
     "data": {
      "text/plain": [
       "Index(['gender', 'age', 'occupation', 'city_category',\n",
       "       'stay_in_current_city_years', 'marital_status', 'product_category_1',\n",
       "       'product_category_2', 'product_category_3', 'purchase'],\n",
       "      dtype='object')"
      ]
     },
     "execution_count": 148,
     "metadata": {},
     "output_type": "execute_result"
    }
   ],
   "source": [
    "# Rename All Columns Into Lower Text\n",
    "df.columns = [column.lower() for column in df.columns]\n",
    "df.columns"
   ]
  },
  {
   "cell_type": "code",
   "execution_count": 149,
   "metadata": {
    "ExecuteTime": {
     "end_time": "2021-08-12T09:20:25.574663Z",
     "start_time": "2021-08-12T09:20:25.351903Z"
    },
    "colab": {
     "base_uri": "https://localhost:8080/"
    },
    "executionInfo": {
     "elapsed": 69,
     "status": "ok",
     "timestamp": 1628743625910,
     "user": {
      "displayName": "Hafidh Soekma Ardiansyah",
      "photoUrl": "https://lh3.googleusercontent.com/a-/AOh14Gin-eP15hz0RSVdywgijS-FLFXprI3uQT6FVENejA=s64",
      "userId": "12754215697376892836"
     },
     "user_tz": -420
    },
    "id": "mK5hfLnBoDFF",
    "outputId": "534d9fa7-0371-4730-cb45-5ba794d351fb"
   },
   "outputs": [
    {
     "name": "stdout",
     "output_type": "stream",
     "text": [
      "Unique Data of Column gender:  ['F' 'M']\n",
      "Unique Data of Column age:  ['0-17' '18-25' '26-35' '36-45' '46-50' '51-55' '55+']\n",
      "Unique Data of Column occupation:  [ 0  1  2  3  4  5  6  7  8  9 10 11 12 13 14 15 16 17 18 19 20]\n",
      "Unique Data of Column city_category:  ['A' 'B' 'C']\n",
      "Unique Data of Column stay_in_current_city_years:  ['0' '1' '2' '3' '4+']\n",
      "Unique Data of Column marital_status:  [0 1]\n",
      "Unique Data of Column product_category_1:  [ 1  2  3  4  5  6  7  8  9 10 11 12 13 14 15 16 17 18 19 20]\n",
      "Unique Data of Column product_category_2:  [ 2.  3.  4.  5.  6.  7.  8.  9. 10. 11. 12. 13. 14. 15. 16. 17. 18. nan]\n",
      "Unique Data of Column product_category_3:  [ 3.  4.  5.  6.  8.  9. 10. 11. 12. 13. 14. 15. 16. 17. 18. nan]\n",
      "Unique Data of Column purchase:  [   12    13    14 ... 23959 23960 23961]\n"
     ]
    }
   ],
   "source": [
    "# Print Unique Data of Each Column\n",
    "import numpy as np\n",
    "\n",
    "for column in df.columns:\n",
    "    print(f\"Unique Data of Column {column}: \", np.sort(df[column].unique()))"
   ]
  },
  {
   "cell_type": "code",
   "execution_count": 150,
   "metadata": {
    "ExecuteTime": {
     "end_time": "2021-08-12T09:20:25.674952Z",
     "start_time": "2021-08-12T09:20:25.574663Z"
    },
    "colab": {
     "base_uri": "https://localhost:8080/"
    },
    "executionInfo": {
     "elapsed": 63,
     "status": "ok",
     "timestamp": 1628743625914,
     "user": {
      "displayName": "Hafidh Soekma Ardiansyah",
      "photoUrl": "https://lh3.googleusercontent.com/a-/AOh14Gin-eP15hz0RSVdywgijS-FLFXprI3uQT6FVENejA=s64",
      "userId": "12754215697376892836"
     },
     "user_tz": -420
    },
    "id": "V4h-kFPgoDFH",
    "outputId": "70198fec-9b0a-4695-92ee-338cceb8cff2"
   },
   "outputs": [
    {
     "data": {
      "text/plain": [
       "gender                             0\n",
       "age                                0\n",
       "occupation                         0\n",
       "city_category                      0\n",
       "stay_in_current_city_years         0\n",
       "marital_status                     0\n",
       "product_category_1                 0\n",
       "product_category_2            173638\n",
       "product_category_3            383247\n",
       "purchase                           0\n",
       "dtype: int64"
      ]
     },
     "execution_count": 150,
     "metadata": {},
     "output_type": "execute_result"
    }
   ],
   "source": [
    "# Check Null Data of Data Train\n",
    "df.isna().sum()"
   ]
  },
  {
   "cell_type": "code",
   "execution_count": 151,
   "metadata": {
    "ExecuteTime": {
     "end_time": "2021-08-12T09:20:25.790891Z",
     "start_time": "2021-08-12T09:20:25.674952Z"
    },
    "colab": {
     "base_uri": "https://localhost:8080/"
    },
    "executionInfo": {
     "elapsed": 806,
     "status": "ok",
     "timestamp": 1628743626663,
     "user": {
      "displayName": "Hafidh Soekma Ardiansyah",
      "photoUrl": "https://lh3.googleusercontent.com/a-/AOh14Gin-eP15hz0RSVdywgijS-FLFXprI3uQT6FVENejA=s64",
      "userId": "12754215697376892836"
     },
     "user_tz": -420
    },
    "id": "T_a9-li9oDFJ",
    "outputId": "89eb73b4-711c-4d3d-8f96-e5c322904ead"
   },
   "outputs": [
    {
     "data": {
      "text/plain": [
       "gender                        0\n",
       "age                           0\n",
       "occupation                    0\n",
       "city_category                 0\n",
       "stay_in_current_city_years    0\n",
       "marital_status                0\n",
       "product_category_1            0\n",
       "product_category_2            0\n",
       "product_category_3            0\n",
       "purchase                      0\n",
       "dtype: int64"
      ]
     },
     "execution_count": 151,
     "metadata": {},
     "output_type": "execute_result"
    }
   ],
   "source": [
    "# Fill Null Data With Mean Data Train of Each Column\n",
    "df[\"product_category_2\"].fillna(df[\"product_category_2\"].mean(), inplace=True)\n",
    "df[\"product_category_3\"].fillna(df[\"product_category_3\"].mean(), inplace=True)\n",
    "df.isna().sum()"
   ]
  },
  {
   "cell_type": "code",
   "execution_count": 152,
   "metadata": {
    "ExecuteTime": {
     "end_time": "2021-08-12T09:20:26.909483Z",
     "start_time": "2021-08-12T09:20:25.790891Z"
    },
    "colab": {
     "base_uri": "https://localhost:8080/",
     "height": 226
    },
    "executionInfo": {
     "elapsed": 64,
     "status": "ok",
     "timestamp": 1628743626666,
     "user": {
      "displayName": "Hafidh Soekma Ardiansyah",
      "photoUrl": "https://lh3.googleusercontent.com/a-/AOh14Gin-eP15hz0RSVdywgijS-FLFXprI3uQT6FVENejA=s64",
      "userId": "12754215697376892836"
     },
     "user_tz": -420
    },
    "id": "RjkkHgLBoDFL",
    "outputId": "e5d14d67-d50b-4194-8714-052ef33f6464"
   },
   "outputs": [
    {
     "data": {
      "text/html": [
       "<div>\n",
       "<style scoped>\n",
       "    .dataframe tbody tr th:only-of-type {\n",
       "        vertical-align: middle;\n",
       "    }\n",
       "\n",
       "    .dataframe tbody tr th {\n",
       "        vertical-align: top;\n",
       "    }\n",
       "\n",
       "    .dataframe thead th {\n",
       "        text-align: right;\n",
       "    }\n",
       "</style>\n",
       "<table border=\"1\" class=\"dataframe\">\n",
       "  <thead>\n",
       "    <tr style=\"text-align: right;\">\n",
       "      <th></th>\n",
       "      <th>gender</th>\n",
       "      <th>age</th>\n",
       "      <th>occupation</th>\n",
       "      <th>city_category</th>\n",
       "      <th>stay_in_current_city_years</th>\n",
       "      <th>marital_status</th>\n",
       "      <th>product_category_1</th>\n",
       "      <th>product_category_2</th>\n",
       "      <th>product_category_3</th>\n",
       "      <th>purchase</th>\n",
       "    </tr>\n",
       "  </thead>\n",
       "  <tbody>\n",
       "    <tr>\n",
       "      <th>0</th>\n",
       "      <td>0.0</td>\n",
       "      <td>0.0</td>\n",
       "      <td>10</td>\n",
       "      <td>0.0</td>\n",
       "      <td>2.0</td>\n",
       "      <td>0</td>\n",
       "      <td>3</td>\n",
       "      <td>9.842329</td>\n",
       "      <td>12.668243</td>\n",
       "      <td>8370</td>\n",
       "    </tr>\n",
       "    <tr>\n",
       "      <th>1</th>\n",
       "      <td>0.0</td>\n",
       "      <td>0.0</td>\n",
       "      <td>10</td>\n",
       "      <td>0.0</td>\n",
       "      <td>2.0</td>\n",
       "      <td>0</td>\n",
       "      <td>1</td>\n",
       "      <td>6.000000</td>\n",
       "      <td>14.000000</td>\n",
       "      <td>15200</td>\n",
       "    </tr>\n",
       "    <tr>\n",
       "      <th>2</th>\n",
       "      <td>0.0</td>\n",
       "      <td>0.0</td>\n",
       "      <td>10</td>\n",
       "      <td>0.0</td>\n",
       "      <td>2.0</td>\n",
       "      <td>0</td>\n",
       "      <td>12</td>\n",
       "      <td>9.842329</td>\n",
       "      <td>12.668243</td>\n",
       "      <td>1422</td>\n",
       "    </tr>\n",
       "    <tr>\n",
       "      <th>3</th>\n",
       "      <td>0.0</td>\n",
       "      <td>0.0</td>\n",
       "      <td>10</td>\n",
       "      <td>0.0</td>\n",
       "      <td>2.0</td>\n",
       "      <td>0</td>\n",
       "      <td>12</td>\n",
       "      <td>14.000000</td>\n",
       "      <td>12.668243</td>\n",
       "      <td>1057</td>\n",
       "    </tr>\n",
       "    <tr>\n",
       "      <th>4</th>\n",
       "      <td>1.0</td>\n",
       "      <td>6.0</td>\n",
       "      <td>16</td>\n",
       "      <td>2.0</td>\n",
       "      <td>4.0</td>\n",
       "      <td>0</td>\n",
       "      <td>8</td>\n",
       "      <td>9.842329</td>\n",
       "      <td>12.668243</td>\n",
       "      <td>7969</td>\n",
       "    </tr>\n",
       "  </tbody>\n",
       "</table>\n",
       "</div>"
      ],
      "text/plain": [
       "   gender  age  occupation  city_category  stay_in_current_city_years  \\\n",
       "0     0.0  0.0          10            0.0                         2.0   \n",
       "1     0.0  0.0          10            0.0                         2.0   \n",
       "2     0.0  0.0          10            0.0                         2.0   \n",
       "3     0.0  0.0          10            0.0                         2.0   \n",
       "4     1.0  6.0          16            2.0                         4.0   \n",
       "\n",
       "   marital_status  product_category_1  product_category_2  product_category_3  \\\n",
       "0               0                   3            9.842329           12.668243   \n",
       "1               0                   1            6.000000           14.000000   \n",
       "2               0                  12            9.842329           12.668243   \n",
       "3               0                  12           14.000000           12.668243   \n",
       "4               0                   8            9.842329           12.668243   \n",
       "\n",
       "   purchase  \n",
       "0      8370  \n",
       "1     15200  \n",
       "2      1422  \n",
       "3      1057  \n",
       "4      7969  "
      ]
     },
     "execution_count": 152,
     "metadata": {},
     "output_type": "execute_result"
    }
   ],
   "source": [
    "# Change Categorical Data Into Numerical Data\n",
    "from sklearn.preprocessing import OrdinalEncoder\n",
    "\n",
    "gender_encoder = OrdinalEncoder()\n",
    "df[[\"gender\"]] = gender_encoder.fit_transform(df[[\"gender\"]])\n",
    "age_encoder = OrdinalEncoder()\n",
    "df[[\"age\"]] = age_encoder.fit_transform(df[[\"age\"]])\n",
    "city_category_encoder = OrdinalEncoder()\n",
    "df[[\"city_category\"]] = city_category_encoder.fit_transform(df[[\"city_category\"]])\n",
    "stay_in_current_city_years_encoder = OrdinalEncoder()\n",
    "df[[\"stay_in_current_city_years\"]] = stay_in_current_city_years_encoder.fit_transform(df[[\"stay_in_current_city_years\"]])\n",
    "df.head()"
   ]
  },
  {
   "cell_type": "code",
   "execution_count": 153,
   "metadata": {
    "ExecuteTime": {
     "end_time": "2021-08-12T09:20:27.179210Z",
     "start_time": "2021-08-12T09:20:26.909483Z"
    },
    "colab": {
     "base_uri": "https://localhost:8080/"
    },
    "executionInfo": {
     "elapsed": 68,
     "status": "ok",
     "timestamp": 1628743631256,
     "user": {
      "displayName": "Hafidh Soekma Ardiansyah",
      "photoUrl": "https://lh3.googleusercontent.com/a-/AOh14Gin-eP15hz0RSVdywgijS-FLFXprI3uQT6FVENejA=s64",
      "userId": "12754215697376892836"
     },
     "user_tz": -420
    },
    "id": "L-FYCi7goDFS",
    "outputId": "768a300a-10b6-4c29-d6ae-125fd2276109"
   },
   "outputs": [
    {
     "name": "stdout",
     "output_type": "stream",
     "text": [
      "Data Before Drop Duplicates:  550068\n",
      "Data After Drop Duplicates:  544807\n"
     ]
    }
   ],
   "source": [
    "# Remove Duplicates Data of Data Train\n",
    "print(\"Data Before Drop Duplicates: \", df.shape[0])\n",
    "df = df.drop_duplicates()\n",
    "print(\"Data After Drop Duplicates: \", df.shape[0])"
   ]
  },
  {
   "cell_type": "code",
   "execution_count": 154,
   "metadata": {
    "ExecuteTime": {
     "end_time": "2021-08-12T09:20:27.226088Z",
     "start_time": "2021-08-12T09:20:27.179210Z"
    }
   },
   "outputs": [
    {
     "name": "stdout",
     "output_type": "stream",
     "text": [
      "<class 'pandas.core.frame.DataFrame'>\n",
      "Int64Index: 544807 entries, 0 to 550067\n",
      "Data columns (total 10 columns):\n",
      " #   Column                      Non-Null Count   Dtype  \n",
      "---  ------                      --------------   -----  \n",
      " 0   gender                      544807 non-null  float64\n",
      " 1   age                         544807 non-null  float64\n",
      " 2   occupation                  544807 non-null  int64  \n",
      " 3   city_category               544807 non-null  float64\n",
      " 4   stay_in_current_city_years  544807 non-null  float64\n",
      " 5   marital_status              544807 non-null  int64  \n",
      " 6   product_category_1          544807 non-null  int64  \n",
      " 7   product_category_2          544807 non-null  float64\n",
      " 8   product_category_3          544807 non-null  float64\n",
      " 9   purchase                    544807 non-null  int64  \n",
      "dtypes: float64(6), int64(4)\n",
      "memory usage: 45.7 MB\n"
     ]
    }
   ],
   "source": [
    "# Check Data Types of Data\n",
    "df.info()"
   ]
  },
  {
   "cell_type": "code",
   "execution_count": 155,
   "metadata": {
    "ExecuteTime": {
     "end_time": "2021-08-12T09:20:27.480142Z",
     "start_time": "2021-08-12T09:20:27.226088Z"
    },
    "colab": {
     "base_uri": "https://localhost:8080/"
    },
    "executionInfo": {
     "elapsed": 61,
     "status": "ok",
     "timestamp": 1628743626668,
     "user": {
      "displayName": "Hafidh Soekma Ardiansyah",
      "photoUrl": "https://lh3.googleusercontent.com/a-/AOh14Gin-eP15hz0RSVdywgijS-FLFXprI3uQT6FVENejA=s64",
      "userId": "12754215697376892836"
     },
     "user_tz": -420
    },
    "id": "5fGKCbwvoDFN",
    "outputId": "c0a6fac5-f0f4-4ca4-937c-ce37a90408ad"
   },
   "outputs": [
    {
     "name": "stdout",
     "output_type": "stream",
     "text": [
      "<class 'pandas.core.frame.DataFrame'>\n",
      "Int64Index: 544807 entries, 0 to 550067\n",
      "Data columns (total 10 columns):\n",
      " #   Column                      Non-Null Count   Dtype\n",
      "---  ------                      --------------   -----\n",
      " 0   gender                      544807 non-null  int64\n",
      " 1   age                         544807 non-null  int64\n",
      " 2   occupation                  544807 non-null  int64\n",
      " 3   city_category               544807 non-null  int64\n",
      " 4   stay_in_current_city_years  544807 non-null  int64\n",
      " 5   marital_status              544807 non-null  int64\n",
      " 6   product_category_1          544807 non-null  int64\n",
      " 7   product_category_2          544807 non-null  int64\n",
      " 8   product_category_3          544807 non-null  int64\n",
      " 9   purchase                    544807 non-null  int64\n",
      "dtypes: int64(10)\n",
      "memory usage: 45.7 MB\n"
     ]
    }
   ],
   "source": [
    "# Change Data Types of Data Train\n",
    "df[[\"gender\"]] = df[[\"gender\"]].astype(\"int64\")\n",
    "df[[\"age\"]] = df[[\"age\"]].astype(\"int64\")\n",
    "df[[\"city_category\"]] = df[[\"city_category\"]].astype(\"int64\")\n",
    "df[[\"stay_in_current_city_years\"]] = df[[\"stay_in_current_city_years\"]].astype(\"int64\")\n",
    "df[[\"product_category_1\"]] = df[[\"product_category_1\"]].astype(\"int64\")\n",
    "df[[\"product_category_2\"]] = df[[\"product_category_2\"]].astype(\"int64\")\n",
    "df[[\"product_category_3\"]] = df[[\"product_category_3\"]].astype(\"int64\")\n",
    "df.info()"
   ]
  },
  {
   "cell_type": "code",
   "execution_count": 156,
   "metadata": {
    "ExecuteTime": {
     "end_time": "2021-08-12T09:20:27.580448Z",
     "start_time": "2021-08-12T09:20:27.480142Z"
    }
   },
   "outputs": [
    {
     "name": "stdout",
     "output_type": "stream",
     "text": [
      "Features Data:     gender  age  occupation  city_category  stay_in_current_city_years  \\\n",
      "0       0    0          10              0                           2   \n",
      "1       0    0          10              0                           2   \n",
      "2       0    0          10              0                           2   \n",
      "3       0    0          10              0                           2   \n",
      "4       1    6          16              2                           4   \n",
      "\n",
      "   marital_status  product_category_1  product_category_2  product_category_3  \n",
      "0               0                   3                   9                  12  \n",
      "1               0                   1                   6                  14  \n",
      "2               0                  12                   9                  12  \n",
      "3               0                  12                  14                  12  \n",
      "4               0                   8                   9                  12  \n",
      "Labels Data:     purchase\n",
      "0      8370\n",
      "1     15200\n",
      "2      1422\n",
      "3      1057\n",
      "4      7969\n"
     ]
    }
   ],
   "source": [
    "# Get Features and Labels\n",
    "features_data = df.drop(columns=[\"purchase\"])\n",
    "labels_data = df[[\"purchase\"]]\n",
    "print(\"Features Data: \", features_data[:5])\n",
    "print(\"Labels Data: \", labels_data[:5])"
   ]
  },
  {
   "cell_type": "code",
   "execution_count": 157,
   "metadata": {
    "ExecuteTime": {
     "end_time": "2021-08-12T09:20:27.696445Z",
     "start_time": "2021-08-12T09:20:27.580448Z"
    },
    "colab": {
     "base_uri": "https://localhost:8080/"
    },
    "executionInfo": {
     "elapsed": 49,
     "status": "ok",
     "timestamp": 1628743631263,
     "user": {
      "displayName": "Hafidh Soekma Ardiansyah",
      "photoUrl": "https://lh3.googleusercontent.com/a-/AOh14Gin-eP15hz0RSVdywgijS-FLFXprI3uQT6FVENejA=s64",
      "userId": "12754215697376892836"
     },
     "user_tz": -420
    },
    "id": "SOZheJWHoDFV",
    "outputId": "5a9d4edb-8573-4944-9d16-dfd88d46c8cb"
   },
   "outputs": [
    {
     "name": "stdout",
     "output_type": "stream",
     "text": [
      "Features Data:  [[0.         0.         0.5        0.         0.5        0.\n",
      "  0.10526316 0.4375     0.6       ]\n",
      " [0.         0.         0.5        0.         0.5        0.\n",
      "  0.         0.25       0.73333333]\n",
      " [0.         0.         0.5        0.         0.5        0.\n",
      "  0.57894737 0.4375     0.6       ]\n",
      " [0.         0.         0.5        0.         0.5        0.\n",
      "  0.57894737 0.75       0.6       ]\n",
      " [1.         1.         0.8        1.         1.         0.\n",
      "  0.36842105 0.4375     0.6       ]]\n",
      "Labels Data:  [[0.34899161]\n",
      " [0.63418097]\n",
      " [0.05887511]\n",
      " [0.04363439]\n",
      " [0.33224769]]\n"
     ]
    }
   ],
   "source": [
    "# Normalization Data\n",
    "from sklearn.preprocessing import MinMaxScaler\n",
    "\n",
    "features_scaler = MinMaxScaler()\n",
    "features_data = features_scaler.fit_transform(features_data)\n",
    "labels_scaler = MinMaxScaler()\n",
    "labels_data = labels_scaler.fit_transform(labels_data)\n",
    "print(\"Features Data: \", features_data[:5])\n",
    "print(\"Labels Data: \", labels_data[:5])"
   ]
  },
  {
   "cell_type": "code",
   "execution_count": 158,
   "metadata": {
    "ExecuteTime": {
     "end_time": "2021-08-12T09:20:27.859251Z",
     "start_time": "2021-08-12T09:20:27.696445Z"
    },
    "colab": {
     "base_uri": "https://localhost:8080/"
    },
    "executionInfo": {
     "elapsed": 43,
     "status": "ok",
     "timestamp": 1628743631265,
     "user": {
      "displayName": "Hafidh Soekma Ardiansyah",
      "photoUrl": "https://lh3.googleusercontent.com/a-/AOh14Gin-eP15hz0RSVdywgijS-FLFXprI3uQT6FVENejA=s64",
      "userId": "12754215697376892836"
     },
     "user_tz": -420
    },
    "id": "MhoSMDU2oDFW",
    "outputId": "406c2e7c-0820-467e-b7a4-865dd34eb7cd"
   },
   "outputs": [
    {
     "name": "stdout",
     "output_type": "stream",
     "text": [
      "Total Features Train: 435845\n",
      "Total Labels Test: 108962\n",
      "Total Features Train: 435845\n",
      "Total Labels Test: 108962\n"
     ]
    }
   ],
   "source": [
    "# Split Data Into Data Train and Data Validation\n",
    "from sklearn.model_selection import train_test_split\n",
    "\n",
    "x_train, x_val, y_train, y_val = train_test_split(features_data, labels_data, \n",
    "                                                  test_size=0.2, random_state=69)\n",
    "print('Total Features Train:', x_train.shape[0])\n",
    "print('Total Labels Test:', x_val.shape[0])\n",
    "print('Total Features Train:', y_train.shape[0])\n",
    "print('Total Labels Test:', y_val.shape[0])"
   ]
  },
  {
   "cell_type": "code",
   "execution_count": 159,
   "metadata": {
    "ExecuteTime": {
     "end_time": "2021-08-12T09:20:27.996738Z",
     "start_time": "2021-08-12T09:20:27.862477Z"
    },
    "colab": {
     "base_uri": "https://localhost:8080/"
    },
    "executionInfo": {
     "elapsed": 531,
     "status": "ok",
     "timestamp": 1628743631761,
     "user": {
      "displayName": "Hafidh Soekma Ardiansyah",
      "photoUrl": "https://lh3.googleusercontent.com/a-/AOh14Gin-eP15hz0RSVdywgijS-FLFXprI3uQT6FVENejA=s64",
      "userId": "12754215697376892836"
     },
     "user_tz": -420
    },
    "id": "FHdXo6zHoDFX",
    "outputId": "45f21264-39c0-4c12-c15e-0e62f7792d1e"
   },
   "outputs": [
    {
     "name": "stdout",
     "output_type": "stream",
     "text": [
      "Model: \"sequential_2\"\n",
      "_________________________________________________________________\n",
      "Layer (type)                 Output Shape              Param #   \n",
      "=================================================================\n",
      "dense_8 (Dense)              (None, 128)               1280      \n",
      "_________________________________________________________________\n",
      "dropout_6 (Dropout)          (None, 128)               0         \n",
      "_________________________________________________________________\n",
      "batch_normalization_6 (Batch (None, 128)               512       \n",
      "_________________________________________________________________\n",
      "dense_9 (Dense)              (None, 256)               33024     \n",
      "_________________________________________________________________\n",
      "dropout_7 (Dropout)          (None, 256)               0         \n",
      "_________________________________________________________________\n",
      "batch_normalization_7 (Batch (None, 256)               1024      \n",
      "_________________________________________________________________\n",
      "dense_10 (Dense)             (None, 512)               131584    \n",
      "_________________________________________________________________\n",
      "dropout_8 (Dropout)          (None, 512)               0         \n",
      "_________________________________________________________________\n",
      "batch_normalization_8 (Batch (None, 512)               2048      \n",
      "_________________________________________________________________\n",
      "dense_11 (Dense)             (None, 1)                 513       \n",
      "=================================================================\n",
      "Total params: 169,985\n",
      "Trainable params: 168,193\n",
      "Non-trainable params: 1,792\n",
      "_________________________________________________________________\n"
     ]
    }
   ],
   "source": [
    "# Make Model Of Deep Learning\n",
    "import tensorflow as tf\n",
    "\n",
    "model = tf.keras.models.Sequential([\n",
    "    tf.keras.layers.Dense(128, activation=\"relu\", input_shape=[x_train.shape[1]]),\n",
    "    tf.keras.layers.Dropout(0.4),\n",
    "    tf.keras.layers.BatchNormalization(),\n",
    "    tf.keras.layers.Dense(256, activation=\"relu\"),\n",
    "    tf.keras.layers.Dropout(0.4),\n",
    "    tf.keras.layers.BatchNormalization(),\n",
    "    tf.keras.layers.Dense(512, activation=\"relu\"),\n",
    "    tf.keras.layers.Dropout(0.4),\n",
    "    tf.keras.layers.BatchNormalization(),\n",
    "    tf.keras.layers.Dense(1, activation=\"linear\")\n",
    "])\n",
    "\n",
    "model.compile(\n",
    "    optimizer='Adam',\n",
    "    loss='mse',\n",
    "    metrics=['mae']\n",
    ")\n",
    "\n",
    "model.summary()"
   ]
  },
  {
   "cell_type": "code",
   "execution_count": 160,
   "metadata": {
    "ExecuteTime": {
     "end_time": "2021-08-12T09:20:28.012367Z",
     "start_time": "2021-08-12T09:20:27.996738Z"
    },
    "executionInfo": {
     "elapsed": 21,
     "status": "ok",
     "timestamp": 1628743631764,
     "user": {
      "displayName": "Hafidh Soekma Ardiansyah",
      "photoUrl": "https://lh3.googleusercontent.com/a-/AOh14Gin-eP15hz0RSVdywgijS-FLFXprI3uQT6FVENejA=s64",
      "userId": "12754215697376892836"
     },
     "user_tz": -420
    },
    "id": "60a4PVQQoDFX"
   },
   "outputs": [],
   "source": [
    "# Make Callbacks For Deep Learning\n",
    "callback0 = tf.keras.callbacks.EarlyStopping(\n",
    "    min_delta=0.001,\n",
    "    patience=8,\n",
    "    restore_best_weights=True\n",
    ")"
   ]
  },
  {
   "cell_type": "code",
   "execution_count": 161,
   "metadata": {
    "ExecuteTime": {
     "end_time": "2021-08-12T09:34:20.638720Z",
     "start_time": "2021-08-12T09:20:28.012367Z"
    },
    "colab": {
     "base_uri": "https://localhost:8080/"
    },
    "executionInfo": {
     "elapsed": 438873,
     "status": "ok",
     "timestamp": 1628744070617,
     "user": {
      "displayName": "Hafidh Soekma Ardiansyah",
      "photoUrl": "https://lh3.googleusercontent.com/a-/AOh14Gin-eP15hz0RSVdywgijS-FLFXprI3uQT6FVENejA=s64",
      "userId": "12754215697376892836"
     },
     "user_tz": -420
    },
    "id": "MqkbkYTBoDFY",
    "outputId": "f881a23d-c4a0-43a4-cafc-d8db36b1ae23"
   },
   "outputs": [
    {
     "name": "stdout",
     "output_type": "stream",
     "text": [
      "Epoch 1/100\n",
      "13621/13621 [==============================] - 65s 5ms/step - loss: 0.1218 - mae: 0.2183 - val_loss: 0.0315 - val_mae: 0.1331\n",
      "Epoch 2/100\n",
      "13621/13621 [==============================] - 62s 5ms/step - loss: 0.0312 - mae: 0.1319 - val_loss: 0.0226 - val_mae: 0.1120\n",
      "Epoch 3/100\n",
      "13621/13621 [==============================] - 62s 5ms/step - loss: 0.0260 - mae: 0.1204 - val_loss: 0.0231 - val_mae: 0.1113\n",
      "Epoch 4/100\n",
      "13621/13621 [==============================] - 65s 5ms/step - loss: 0.0251 - mae: 0.1187 - val_loss: 0.0228 - val_mae: 0.1141\n",
      "Epoch 5/100\n",
      "13621/13621 [==============================] - 64s 5ms/step - loss: 0.0243 - mae: 0.1175 - val_loss: 0.0212 - val_mae: 0.1071\n",
      "Epoch 6/100\n",
      "13621/13621 [==============================] - 66s 5ms/step - loss: 0.0239 - mae: 0.1167 - val_loss: 0.0253 - val_mae: 0.1171\n",
      "Epoch 7/100\n",
      "13621/13621 [==============================] - 65s 5ms/step - loss: 0.0237 - mae: 0.1162 - val_loss: 0.0225 - val_mae: 0.1110\n",
      "Epoch 8/100\n",
      "13621/13621 [==============================] - 64s 5ms/step - loss: 0.0233 - mae: 0.1152 - val_loss: 0.0218 - val_mae: 0.1096\n",
      "Epoch 9/100\n",
      "13621/13621 [==============================] - 63s 5ms/step - loss: 0.0232 - mae: 0.1151 - val_loss: 0.0218 - val_mae: 0.1123\n",
      "Epoch 10/100\n",
      "13621/13621 [==============================] - 64s 5ms/step - loss: 0.0232 - mae: 0.1149 - val_loss: 0.0211 - val_mae: 0.1070\n",
      "Epoch 11/100\n",
      "13621/13621 [==============================] - 63s 5ms/step - loss: 0.0227 - mae: 0.1139 - val_loss: 0.0227 - val_mae: 0.1129\n",
      "Epoch 12/100\n",
      "13621/13621 [==============================] - 64s 5ms/step - loss: 0.0225 - mae: 0.1137 - val_loss: 0.0263 - val_mae: 0.1169\n",
      "Epoch 13/100\n",
      "13621/13621 [==============================] - 64s 5ms/step - loss: 0.0226 - mae: 0.1137 - val_loss: 0.0242 - val_mae: 0.1129\n"
     ]
    }
   ],
   "source": [
    "# Train Model\n",
    "history = model.fit(\n",
    "    x_train, y_train,\n",
    "    validation_data=(x_val, y_val),\n",
    "    epochs=100,\n",
    "    callbacks=[callback0]\n",
    ")"
   ]
  },
  {
   "cell_type": "code",
   "execution_count": 162,
   "metadata": {
    "ExecuteTime": {
     "end_time": "2021-08-12T09:34:20.955238Z",
     "start_time": "2021-08-12T09:34:20.638720Z"
    },
    "colab": {
     "base_uri": "https://localhost:8080/",
     "height": 391
    },
    "executionInfo": {
     "elapsed": 52,
     "status": "ok",
     "timestamp": 1628744070620,
     "user": {
      "displayName": "Hafidh Soekma Ardiansyah",
      "photoUrl": "https://lh3.googleusercontent.com/a-/AOh14Gin-eP15hz0RSVdywgijS-FLFXprI3uQT6FVENejA=s64",
      "userId": "12754215697376892836"
     },
     "user_tz": -420
    },
    "id": "RO-2tYlboDFY",
    "outputId": "45c5ab0e-28f5-452a-b2aa-65f323c4123b"
   },
   "outputs": [
    {
     "data": {
      "image/png": "[encoded data removed]",
      "text/plain": [
       "<Figure size 720x432 with 1 Axes>"
      ]
     },
     "metadata": {},
     "output_type": "display_data"
    }
   ],
   "source": [
    "# Plot MAE Model\n",
    "plt.figure(figsize=(10, 6))\n",
    "plt.plot(history.history['mae'])\n",
    "plt.plot(history.history['val_mae'])\n",
    "plt.title('Model MAE')\n",
    "plt.legend(['mae', 'val_mae'])\n",
    "plt.show()"
   ]
  },
  {
   "cell_type": "code",
   "execution_count": 163,
   "metadata": {
    "ExecuteTime": {
     "end_time": "2021-08-12T09:34:21.224890Z",
     "start_time": "2021-08-12T09:34:20.955238Z"
    },
    "colab": {
     "base_uri": "https://localhost:8080/",
     "height": 391
    },
    "executionInfo": {
     "elapsed": 1166,
     "status": "ok",
     "timestamp": 1628744071743,
     "user": {
      "displayName": "Hafidh Soekma Ardiansyah",
      "photoUrl": "https://lh3.googleusercontent.com/a-/AOh14Gin-eP15hz0RSVdywgijS-FLFXprI3uQT6FVENejA=s64",
      "userId": "12754215697376892836"
     },
     "user_tz": -420
    },
    "id": "ZB4kFpY1oDFZ",
    "outputId": "f9f0a2fc-0ac7-40e2-aa48-668e24b2fabf"
   },
   "outputs": [
    {
     "data": {
      "image/png": "[encoded data removed]",
      "text/plain": [
       "<Figure size 720x432 with 1 Axes>"
      ]
     },
     "metadata": {},
     "output_type": "display_data"
    }
   ],
   "source": [
    "# Plot Loss Model\n",
    "plt.figure(figsize=(10, 6))\n",
    "plt.plot(history.history['loss'])\n",
    "plt.plot(history.history['val_loss'])\n",
    "plt.title('Model Loss Function')\n",
    "plt.legend(['loss', 'val_loss'])\n",
    "plt.show()"
   ]
  },
  {
   "cell_type": "code",
   "execution_count": 164,
   "metadata": {
    "ExecuteTime": {
     "end_time": "2021-08-12T09:34:27.259632Z",
     "start_time": "2021-08-12T09:34:21.224890Z"
    }
   },
   "outputs": [
    {
     "name": "stdout",
     "output_type": "stream",
     "text": [
      "INFO:tensorflow:Assets written to: ./model_deep_learning/assets\n"
     ]
    }
   ],
   "source": [
    "# Saved Model\n",
    "tf.saved_model.save(model, \"./model_deep_learning/\")"
   ]
  },
  {
   "cell_type": "code",
   "execution_count": 165,
   "metadata": {
    "ExecuteTime": {
     "end_time": "2021-08-12T09:34:27.544554Z",
     "start_time": "2021-08-12T09:34:27.259632Z"
    },
    "colab": {
     "base_uri": "https://localhost:8080/",
     "height": 226
    },
    "executionInfo": {
     "elapsed": 385,
     "status": "ok",
     "timestamp": 1628744178500,
     "user": {
      "displayName": "Hafidh Soekma Ardiansyah",
      "photoUrl": "https://lh3.googleusercontent.com/a-/AOh14Gin-eP15hz0RSVdywgijS-FLFXprI3uQT6FVENejA=s64",
      "userId": "12754215697376892836"
     },
     "user_tz": -420
    },
    "id": "c5e0yv7Jt2Vf",
    "outputId": "6c6791b9-e726-4eab-888a-eb1c00e0b63a"
   },
   "outputs": [
    {
     "data": {
      "text/html": [
       "<div>\n",
       "<style scoped>\n",
       "    .dataframe tbody tr th:only-of-type {\n",
       "        vertical-align: middle;\n",
       "    }\n",
       "\n",
       "    .dataframe tbody tr th {\n",
       "        vertical-align: top;\n",
       "    }\n",
       "\n",
       "    .dataframe thead th {\n",
       "        text-align: right;\n",
       "    }\n",
       "</style>\n",
       "<table border=\"1\" class=\"dataframe\">\n",
       "  <thead>\n",
       "    <tr style=\"text-align: right;\">\n",
       "      <th></th>\n",
       "      <th>User_ID</th>\n",
       "      <th>Product_ID</th>\n",
       "      <th>Gender</th>\n",
       "      <th>Age</th>\n",
       "      <th>Occupation</th>\n",
       "      <th>City_Category</th>\n",
       "      <th>Stay_In_Current_City_Years</th>\n",
       "      <th>Marital_Status</th>\n",
       "      <th>Product_Category_1</th>\n",
       "      <th>Product_Category_2</th>\n",
       "      <th>Product_Category_3</th>\n",
       "    </tr>\n",
       "  </thead>\n",
       "  <tbody>\n",
       "    <tr>\n",
       "      <th>0</th>\n",
       "      <td>1000004</td>\n",
       "      <td>P00128942</td>\n",
       "      <td>M</td>\n",
       "      <td>46-50</td>\n",
       "      <td>7</td>\n",
       "      <td>B</td>\n",
       "      <td>2</td>\n",
       "      <td>1</td>\n",
       "      <td>1</td>\n",
       "      <td>11.0</td>\n",
       "      <td>NaN</td>\n",
       "    </tr>\n",
       "    <tr>\n",
       "      <th>1</th>\n",
       "      <td>1000009</td>\n",
       "      <td>P00113442</td>\n",
       "      <td>M</td>\n",
       "      <td>26-35</td>\n",
       "      <td>17</td>\n",
       "      <td>C</td>\n",
       "      <td>0</td>\n",
       "      <td>0</td>\n",
       "      <td>3</td>\n",
       "      <td>5.0</td>\n",
       "      <td>NaN</td>\n",
       "    </tr>\n",
       "    <tr>\n",
       "      <th>2</th>\n",
       "      <td>1000010</td>\n",
       "      <td>P00288442</td>\n",
       "      <td>F</td>\n",
       "      <td>36-45</td>\n",
       "      <td>1</td>\n",
       "      <td>B</td>\n",
       "      <td>4+</td>\n",
       "      <td>1</td>\n",
       "      <td>5</td>\n",
       "      <td>14.0</td>\n",
       "      <td>NaN</td>\n",
       "    </tr>\n",
       "    <tr>\n",
       "      <th>3</th>\n",
       "      <td>1000010</td>\n",
       "      <td>P00145342</td>\n",
       "      <td>F</td>\n",
       "      <td>36-45</td>\n",
       "      <td>1</td>\n",
       "      <td>B</td>\n",
       "      <td>4+</td>\n",
       "      <td>1</td>\n",
       "      <td>4</td>\n",
       "      <td>9.0</td>\n",
       "      <td>NaN</td>\n",
       "    </tr>\n",
       "    <tr>\n",
       "      <th>4</th>\n",
       "      <td>1000011</td>\n",
       "      <td>P00053842</td>\n",
       "      <td>F</td>\n",
       "      <td>26-35</td>\n",
       "      <td>1</td>\n",
       "      <td>C</td>\n",
       "      <td>1</td>\n",
       "      <td>0</td>\n",
       "      <td>4</td>\n",
       "      <td>5.0</td>\n",
       "      <td>12.0</td>\n",
       "    </tr>\n",
       "  </tbody>\n",
       "</table>\n",
       "</div>"
      ],
      "text/plain": [
       "   User_ID Product_ID Gender    Age  Occupation City_Category  \\\n",
       "0  1000004  P00128942      M  46-50           7             B   \n",
       "1  1000009  P00113442      M  26-35          17             C   \n",
       "2  1000010  P00288442      F  36-45           1             B   \n",
       "3  1000010  P00145342      F  36-45           1             B   \n",
       "4  1000011  P00053842      F  26-35           1             C   \n",
       "\n",
       "  Stay_In_Current_City_Years  Marital_Status  Product_Category_1  \\\n",
       "0                          2               1                   1   \n",
       "1                          0               0                   3   \n",
       "2                         4+               1                   5   \n",
       "3                         4+               1                   4   \n",
       "4                          1               0                   4   \n",
       "\n",
       "   Product_Category_2  Product_Category_3  \n",
       "0                11.0                 NaN  \n",
       "1                 5.0                 NaN  \n",
       "2                14.0                 NaN  \n",
       "3                 9.0                 NaN  \n",
       "4                 5.0                12.0  "
      ]
     },
     "execution_count": 165,
     "metadata": {},
     "output_type": "execute_result"
    }
   ],
   "source": [
    "# Load Data Test\n",
    "data_test = pd.read_csv(\"./data_test.csv\")\n",
    "data_test.head()"
   ]
  },
  {
   "cell_type": "code",
   "execution_count": 166,
   "metadata": {
    "ExecuteTime": {
     "end_time": "2021-08-12T09:34:27.589961Z",
     "start_time": "2021-08-12T09:34:27.544554Z"
    },
    "colab": {
     "base_uri": "https://localhost:8080/",
     "height": 206
    },
    "executionInfo": {
     "elapsed": 376,
     "status": "ok",
     "timestamp": 1628744236392,
     "user": {
      "displayName": "Hafidh Soekma Ardiansyah",
      "photoUrl": "https://lh3.googleusercontent.com/a-/AOh14Gin-eP15hz0RSVdywgijS-FLFXprI3uQT6FVENejA=s64",
      "userId": "12754215697376892836"
     },
     "user_tz": -420
    },
    "id": "YhDL7Xxnt9S9",
    "outputId": "0d416a86-34a5-4b40-eef4-b64e3a569112"
   },
   "outputs": [
    {
     "data": {
      "text/html": [
       "<div>\n",
       "<style scoped>\n",
       "    .dataframe tbody tr th:only-of-type {\n",
       "        vertical-align: middle;\n",
       "    }\n",
       "\n",
       "    .dataframe tbody tr th {\n",
       "        vertical-align: top;\n",
       "    }\n",
       "\n",
       "    .dataframe thead th {\n",
       "        text-align: right;\n",
       "    }\n",
       "</style>\n",
       "<table border=\"1\" class=\"dataframe\">\n",
       "  <thead>\n",
       "    <tr style=\"text-align: right;\">\n",
       "      <th></th>\n",
       "      <th>Gender</th>\n",
       "      <th>Age</th>\n",
       "      <th>Occupation</th>\n",
       "      <th>City_Category</th>\n",
       "      <th>Stay_In_Current_City_Years</th>\n",
       "      <th>Marital_Status</th>\n",
       "      <th>Product_Category_1</th>\n",
       "      <th>Product_Category_2</th>\n",
       "      <th>Product_Category_3</th>\n",
       "    </tr>\n",
       "  </thead>\n",
       "  <tbody>\n",
       "    <tr>\n",
       "      <th>0</th>\n",
       "      <td>M</td>\n",
       "      <td>46-50</td>\n",
       "      <td>7</td>\n",
       "      <td>B</td>\n",
       "      <td>2</td>\n",
       "      <td>1</td>\n",
       "      <td>1</td>\n",
       "      <td>11.0</td>\n",
       "      <td>NaN</td>\n",
       "    </tr>\n",
       "    <tr>\n",
       "      <th>1</th>\n",
       "      <td>M</td>\n",
       "      <td>26-35</td>\n",
       "      <td>17</td>\n",
       "      <td>C</td>\n",
       "      <td>0</td>\n",
       "      <td>0</td>\n",
       "      <td>3</td>\n",
       "      <td>5.0</td>\n",
       "      <td>NaN</td>\n",
       "    </tr>\n",
       "    <tr>\n",
       "      <th>2</th>\n",
       "      <td>F</td>\n",
       "      <td>36-45</td>\n",
       "      <td>1</td>\n",
       "      <td>B</td>\n",
       "      <td>4+</td>\n",
       "      <td>1</td>\n",
       "      <td>5</td>\n",
       "      <td>14.0</td>\n",
       "      <td>NaN</td>\n",
       "    </tr>\n",
       "    <tr>\n",
       "      <th>3</th>\n",
       "      <td>F</td>\n",
       "      <td>36-45</td>\n",
       "      <td>1</td>\n",
       "      <td>B</td>\n",
       "      <td>4+</td>\n",
       "      <td>1</td>\n",
       "      <td>4</td>\n",
       "      <td>9.0</td>\n",
       "      <td>NaN</td>\n",
       "    </tr>\n",
       "    <tr>\n",
       "      <th>4</th>\n",
       "      <td>F</td>\n",
       "      <td>26-35</td>\n",
       "      <td>1</td>\n",
       "      <td>C</td>\n",
       "      <td>1</td>\n",
       "      <td>0</td>\n",
       "      <td>4</td>\n",
       "      <td>5.0</td>\n",
       "      <td>12.0</td>\n",
       "    </tr>\n",
       "  </tbody>\n",
       "</table>\n",
       "</div>"
      ],
      "text/plain": [
       "  Gender    Age  Occupation City_Category Stay_In_Current_City_Years  \\\n",
       "0      M  46-50           7             B                          2   \n",
       "1      M  26-35          17             C                          0   \n",
       "2      F  36-45           1             B                         4+   \n",
       "3      F  36-45           1             B                         4+   \n",
       "4      F  26-35           1             C                          1   \n",
       "\n",
       "   Marital_Status  Product_Category_1  Product_Category_2  Product_Category_3  \n",
       "0               1                   1                11.0                 NaN  \n",
       "1               0                   3                 5.0                 NaN  \n",
       "2               1                   5                14.0                 NaN  \n",
       "3               1                   4                 9.0                 NaN  \n",
       "4               0                   4                 5.0                12.0  "
      ]
     },
     "execution_count": 166,
     "metadata": {},
     "output_type": "execute_result"
    }
   ],
   "source": [
    "# Drop Column User_ID and Product_ID\n",
    "data_test.drop(columns=[\"User_ID\", \"Product_ID\"], inplace=True)\n",
    "data_test.head()"
   ]
  },
  {
   "cell_type": "code",
   "execution_count": 167,
   "metadata": {
    "ExecuteTime": {
     "end_time": "2021-08-12T09:34:27.621216Z",
     "start_time": "2021-08-12T09:34:27.589961Z"
    },
    "colab": {
     "base_uri": "https://localhost:8080/"
    },
    "executionInfo": {
     "elapsed": 363,
     "status": "ok",
     "timestamp": 1628744285833,
     "user": {
      "displayName": "Hafidh Soekma Ardiansyah",
      "photoUrl": "https://lh3.googleusercontent.com/a-/AOh14Gin-eP15hz0RSVdywgijS-FLFXprI3uQT6FVENejA=s64",
      "userId": "12754215697376892836"
     },
     "user_tz": -420
    },
    "id": "yf3r188FuLgm",
    "outputId": "2101ac40-9e51-4368-ed69-076a62f0c2c4"
   },
   "outputs": [
    {
     "data": {
      "text/plain": [
       "Index(['gender', 'age', 'occupation', 'city_category',\n",
       "       'stay_in_current_city_years', 'marital_status', 'product_category_1',\n",
       "       'product_category_2', 'product_category_3'],\n",
       "      dtype='object')"
      ]
     },
     "execution_count": 167,
     "metadata": {},
     "output_type": "execute_result"
    }
   ],
   "source": [
    "# Rename All Columns Into Lower Text\n",
    "data_test.columns = [column.lower() for column in data_test.columns]\n",
    "data_test.columns"
   ]
  },
  {
   "cell_type": "code",
   "execution_count": 168,
   "metadata": {
    "ExecuteTime": {
     "end_time": "2021-08-12T09:34:27.691772Z",
     "start_time": "2021-08-12T09:34:27.621216Z"
    },
    "colab": {
     "base_uri": "https://localhost:8080/"
    },
    "executionInfo": {
     "elapsed": 374,
     "status": "ok",
     "timestamp": 1628744314118,
     "user": {
      "displayName": "Hafidh Soekma Ardiansyah",
      "photoUrl": "https://lh3.googleusercontent.com/a-/AOh14Gin-eP15hz0RSVdywgijS-FLFXprI3uQT6FVENejA=s64",
      "userId": "12754215697376892836"
     },
     "user_tz": -420
    },
    "id": "TmB-MmQBuXka",
    "outputId": "45ee0c5c-24a1-4998-aaf9-48956551fe13"
   },
   "outputs": [
    {
     "data": {
      "text/plain": [
       "gender                             0\n",
       "age                                0\n",
       "occupation                         0\n",
       "city_category                      0\n",
       "stay_in_current_city_years         0\n",
       "marital_status                     0\n",
       "product_category_1                 0\n",
       "product_category_2             72344\n",
       "product_category_3            162562\n",
       "dtype: int64"
      ]
     },
     "execution_count": 168,
     "metadata": {},
     "output_type": "execute_result"
    }
   ],
   "source": [
    "# Check Null Data\n",
    "data_test.isna().sum()"
   ]
  },
  {
   "cell_type": "code",
   "execution_count": 169,
   "metadata": {
    "ExecuteTime": {
     "end_time": "2021-08-12T09:34:27.760843Z",
     "start_time": "2021-08-12T09:34:27.691772Z"
    },
    "colab": {
     "base_uri": "https://localhost:8080/"
    },
    "executionInfo": {
     "elapsed": 353,
     "status": "ok",
     "timestamp": 1628744419848,
     "user": {
      "displayName": "Hafidh Soekma Ardiansyah",
      "photoUrl": "https://lh3.googleusercontent.com/a-/AOh14Gin-eP15hz0RSVdywgijS-FLFXprI3uQT6FVENejA=s64",
      "userId": "12754215697376892836"
     },
     "user_tz": -420
    },
    "id": "yZZgRilQueZ6",
    "outputId": "bdae7a1f-b34d-4706-b018-6663a10fe50d"
   },
   "outputs": [
    {
     "data": {
      "text/plain": [
       "gender                        0\n",
       "age                           0\n",
       "occupation                    0\n",
       "city_category                 0\n",
       "stay_in_current_city_years    0\n",
       "marital_status                0\n",
       "product_category_1            0\n",
       "product_category_2            0\n",
       "product_category_3            0\n",
       "dtype: int64"
      ]
     },
     "execution_count": 169,
     "metadata": {},
     "output_type": "execute_result"
    }
   ],
   "source": [
    "# Fill Null Column\n",
    "data_test[\"product_category_2\"].fillna(data_test[\"product_category_2\"]\n",
    "                                         .mean(), inplace=True)\n",
    "data_test[\"product_category_3\"].fillna(data_test[\"product_category_3\"]\n",
    "                                         .mean(), inplace=True)\n",
    "data_test.isna().sum()"
   ]
  },
  {
   "cell_type": "code",
   "execution_count": 170,
   "metadata": {
    "ExecuteTime": {
     "end_time": "2021-08-12T09:34:28.208918Z",
     "start_time": "2021-08-12T09:34:27.760843Z"
    },
    "colab": {
     "base_uri": "https://localhost:8080/",
     "height": 206
    },
    "executionInfo": {
     "elapsed": 362,
     "status": "ok",
     "timestamp": 1628744632143,
     "user": {
      "displayName": "Hafidh Soekma Ardiansyah",
      "photoUrl": "https://lh3.googleusercontent.com/a-/AOh14Gin-eP15hz0RSVdywgijS-FLFXprI3uQT6FVENejA=s64",
      "userId": "12754215697376892836"
     },
     "user_tz": -420
    },
    "id": "z5HaDPs8vB0Q",
    "outputId": "0178225b-af96-47ab-9614-14fd140c7509"
   },
   "outputs": [
    {
     "data": {
      "text/html": [
       "<div>\n",
       "<style scoped>\n",
       "    .dataframe tbody tr th:only-of-type {\n",
       "        vertical-align: middle;\n",
       "    }\n",
       "\n",
       "    .dataframe tbody tr th {\n",
       "        vertical-align: top;\n",
       "    }\n",
       "\n",
       "    .dataframe thead th {\n",
       "        text-align: right;\n",
       "    }\n",
       "</style>\n",
       "<table border=\"1\" class=\"dataframe\">\n",
       "  <thead>\n",
       "    <tr style=\"text-align: right;\">\n",
       "      <th></th>\n",
       "      <th>gender</th>\n",
       "      <th>age</th>\n",
       "      <th>occupation</th>\n",
       "      <th>city_category</th>\n",
       "      <th>stay_in_current_city_years</th>\n",
       "      <th>marital_status</th>\n",
       "      <th>product_category_1</th>\n",
       "      <th>product_category_2</th>\n",
       "      <th>product_category_3</th>\n",
       "    </tr>\n",
       "  </thead>\n",
       "  <tbody>\n",
       "    <tr>\n",
       "      <th>0</th>\n",
       "      <td>1.0</td>\n",
       "      <td>4.0</td>\n",
       "      <td>7</td>\n",
       "      <td>1.0</td>\n",
       "      <td>2.0</td>\n",
       "      <td>1</td>\n",
       "      <td>1</td>\n",
       "      <td>11.0</td>\n",
       "      <td>12.669454</td>\n",
       "    </tr>\n",
       "    <tr>\n",
       "      <th>1</th>\n",
       "      <td>1.0</td>\n",
       "      <td>2.0</td>\n",
       "      <td>17</td>\n",
       "      <td>2.0</td>\n",
       "      <td>0.0</td>\n",
       "      <td>0</td>\n",
       "      <td>3</td>\n",
       "      <td>5.0</td>\n",
       "      <td>12.669454</td>\n",
       "    </tr>\n",
       "    <tr>\n",
       "      <th>2</th>\n",
       "      <td>0.0</td>\n",
       "      <td>3.0</td>\n",
       "      <td>1</td>\n",
       "      <td>1.0</td>\n",
       "      <td>4.0</td>\n",
       "      <td>1</td>\n",
       "      <td>5</td>\n",
       "      <td>14.0</td>\n",
       "      <td>12.669454</td>\n",
       "    </tr>\n",
       "    <tr>\n",
       "      <th>3</th>\n",
       "      <td>0.0</td>\n",
       "      <td>3.0</td>\n",
       "      <td>1</td>\n",
       "      <td>1.0</td>\n",
       "      <td>4.0</td>\n",
       "      <td>1</td>\n",
       "      <td>4</td>\n",
       "      <td>9.0</td>\n",
       "      <td>12.669454</td>\n",
       "    </tr>\n",
       "    <tr>\n",
       "      <th>4</th>\n",
       "      <td>0.0</td>\n",
       "      <td>2.0</td>\n",
       "      <td>1</td>\n",
       "      <td>2.0</td>\n",
       "      <td>1.0</td>\n",
       "      <td>0</td>\n",
       "      <td>4</td>\n",
       "      <td>5.0</td>\n",
       "      <td>12.000000</td>\n",
       "    </tr>\n",
       "  </tbody>\n",
       "</table>\n",
       "</div>"
      ],
      "text/plain": [
       "   gender  age  occupation  city_category  stay_in_current_city_years  \\\n",
       "0     1.0  4.0           7            1.0                         2.0   \n",
       "1     1.0  2.0          17            2.0                         0.0   \n",
       "2     0.0  3.0           1            1.0                         4.0   \n",
       "3     0.0  3.0           1            1.0                         4.0   \n",
       "4     0.0  2.0           1            2.0                         1.0   \n",
       "\n",
       "   marital_status  product_category_1  product_category_2  product_category_3  \n",
       "0               1                   1                11.0           12.669454  \n",
       "1               0                   3                 5.0           12.669454  \n",
       "2               1                   5                14.0           12.669454  \n",
       "3               1                   4                 9.0           12.669454  \n",
       "4               0                   4                 5.0           12.000000  "
      ]
     },
     "execution_count": 170,
     "metadata": {},
     "output_type": "execute_result"
    }
   ],
   "source": [
    "# Change Test Data Categorical Into Numerical\n",
    "data_test[[\"gender\"]] = gender_encoder.transform(data_test[[\"gender\"]])\n",
    "data_test[[\"age\"]] = age_encoder.transform(data_test[[\"age\"]])\n",
    "data_test[[\"city_category\"]] = city_category_encoder.transform(data_test[[\"city_category\"]])\n",
    "data_test[[\"stay_in_current_city_years\"]] = stay_in_current_city_years_encoder.transform(\n",
    "    data_test[[\"stay_in_current_city_years\"]])\n",
    "data_test.head()"
   ]
  },
  {
   "cell_type": "code",
   "execution_count": 171,
   "metadata": {
    "ExecuteTime": {
     "end_time": "2021-08-12T09:34:28.324871Z",
     "start_time": "2021-08-12T09:34:28.208918Z"
    },
    "colab": {
     "base_uri": "https://localhost:8080/"
    },
    "executionInfo": {
     "elapsed": 346,
     "status": "ok",
     "timestamp": 1628744766133,
     "user": {
      "displayName": "Hafidh Soekma Ardiansyah",
      "photoUrl": "https://lh3.googleusercontent.com/a-/AOh14Gin-eP15hz0RSVdywgijS-FLFXprI3uQT6FVENejA=s64",
      "userId": "12754215697376892836"
     },
     "user_tz": -420
    },
    "id": "-c5GGsPNv6nn",
    "outputId": "b4fe1630-e769-4fc2-f1dd-fc730c844406"
   },
   "outputs": [
    {
     "name": "stdout",
     "output_type": "stream",
     "text": [
      "<class 'pandas.core.frame.DataFrame'>\n",
      "RangeIndex: 233599 entries, 0 to 233598\n",
      "Data columns (total 9 columns):\n",
      " #   Column                      Non-Null Count   Dtype\n",
      "---  ------                      --------------   -----\n",
      " 0   gender                      233599 non-null  int64\n",
      " 1   age                         233599 non-null  int64\n",
      " 2   occupation                  233599 non-null  int64\n",
      " 3   city_category               233599 non-null  int64\n",
      " 4   stay_in_current_city_years  233599 non-null  int64\n",
      " 5   marital_status              233599 non-null  int64\n",
      " 6   product_category_1          233599 non-null  int64\n",
      " 7   product_category_2          233599 non-null  int64\n",
      " 8   product_category_3          233599 non-null  int64\n",
      "dtypes: int64(9)\n",
      "memory usage: 16.0 MB\n"
     ]
    }
   ],
   "source": [
    "# Change Data Types\n",
    "data_test[[\"gender\"]] = data_test[[\"gender\"]].astype(\"int64\")\n",
    "data_test[[\"age\"]] = data_test[[\"age\"]].astype(\"int64\")\n",
    "data_test[[\"city_category\"]] = data_test[[\"city_category\"]].astype(\"int64\")\n",
    "data_test[[\"stay_in_current_city_years\"]] = data_test[[\"stay_in_current_city_years\"]].astype(\"int64\")\n",
    "data_test[[\"product_category_2\"]] = data_test[[\"product_category_2\"]].astype(\"int64\")\n",
    "data_test[[\"product_category_3\"]] = data_test[[\"product_category_3\"]].astype(\"int64\")\n",
    "data_test.info()"
   ]
  },
  {
   "cell_type": "code",
   "execution_count": 172,
   "metadata": {
    "ExecuteTime": {
     "end_time": "2021-08-12T09:34:28.378301Z",
     "start_time": "2021-08-12T09:34:28.324871Z"
    },
    "colab": {
     "base_uri": "https://localhost:8080/",
     "height": 209
    },
    "executionInfo": {
     "elapsed": 432,
     "status": "error",
     "timestamp": 1628745015612,
     "user": {
      "displayName": "Hafidh Soekma Ardiansyah",
      "photoUrl": "https://lh3.googleusercontent.com/a-/AOh14Gin-eP15hz0RSVdywgijS-FLFXprI3uQT6FVENejA=s64",
      "userId": "12754215697376892836"
     },
     "user_tz": -420
    },
    "id": "9p6raTwJwyww",
    "outputId": "97fa03a4-1e86-4884-94de-fe936bcb4b78"
   },
   "outputs": [
    {
     "data": {
      "text/plain": [
       "array([[1.        , 0.66666667, 0.35      , 0.5       , 0.5       ,\n",
       "        1.        , 0.        , 0.5625    , 0.6       ],\n",
       "       [1.        , 0.33333333, 0.85      , 1.        , 0.        ,\n",
       "        0.        , 0.10526316, 0.1875    , 0.6       ],\n",
       "       [0.        , 0.5       , 0.05      , 0.5       , 1.        ,\n",
       "        1.        , 0.21052632, 0.75      , 0.6       ],\n",
       "       [0.        , 0.5       , 0.05      , 0.5       , 1.        ,\n",
       "        1.        , 0.15789474, 0.4375    , 0.6       ],\n",
       "       [0.        , 0.33333333, 0.05      , 1.        , 0.25      ,\n",
       "        0.        , 0.15789474, 0.1875    , 0.6       ]])"
      ]
     },
     "execution_count": 172,
     "metadata": {},
     "output_type": "execute_result"
    }
   ],
   "source": [
    "# Normalization Data\n",
    "data_test = features_scaler.transform(data_test)\n",
    "data_test[:5]"
   ]
  },
  {
   "cell_type": "code",
   "execution_count": 173,
   "metadata": {
    "ExecuteTime": {
     "end_time": "2021-08-12T09:34:35.539956Z",
     "start_time": "2021-08-12T09:34:28.378301Z"
    },
    "colab": {
     "base_uri": "https://localhost:8080/"
    },
    "executionInfo": {
     "elapsed": 8788,
     "status": "ok",
     "timestamp": 1628745080297,
     "user": {
      "displayName": "Hafidh Soekma Ardiansyah",
      "photoUrl": "https://lh3.googleusercontent.com/a-/AOh14Gin-eP15hz0RSVdywgijS-FLFXprI3uQT6FVENejA=s64",
      "userId": "12754215697376892836"
     },
     "user_tz": -420
    },
    "id": "3kIRMowBxJts",
    "outputId": "a4070642-983b-4f83-a1ca-e9afe4706cda"
   },
   "outputs": [
    {
     "data": {
      "text/plain": [
       "array([[0.5264691 ],\n",
       "       [0.4309193 ],\n",
       "       [0.30253428],\n",
       "       [0.286063  ],\n",
       "       [0.28074074]], dtype=float32)"
      ]
     },
     "execution_count": 173,
     "metadata": {},
     "output_type": "execute_result"
    }
   ],
   "source": [
    "# Predict Data\n",
    "predict_test = model.predict(data_test)\n",
    "predict_test[:5]"
   ]
  },
  {
   "cell_type": "code",
   "execution_count": 174,
   "metadata": {
    "ExecuteTime": {
     "end_time": "2021-08-12T09:34:35.555488Z",
     "start_time": "2021-08-12T09:34:35.539956Z"
    },
    "colab": {
     "base_uri": "https://localhost:8080/"
    },
    "executionInfo": {
     "elapsed": 361,
     "status": "ok",
     "timestamp": 1628745126422,
     "user": {
      "displayName": "Hafidh Soekma Ardiansyah",
      "photoUrl": "https://lh3.googleusercontent.com/a-/AOh14Gin-eP15hz0RSVdywgijS-FLFXprI3uQT6FVENejA=s64",
      "userId": "12754215697376892836"
     },
     "user_tz": -420
    },
    "id": "jZul4PqrxMi1",
    "outputId": "1d7a4fc0-49a0-4a5f-9f25-a2e063489c18"
   },
   "outputs": [
    {
     "data": {
      "text/plain": [
       "array([[12620.408 ],\n",
       "       [10332.086 ],\n",
       "       [ 7257.3936],\n",
       "       [ 6862.9224],\n",
       "       [ 6735.46  ]], dtype=float32)"
      ]
     },
     "execution_count": 174,
     "metadata": {},
     "output_type": "execute_result"
    }
   ],
   "source": [
    "# Change Scale Predict Test\n",
    "predict_test = labels_scaler.inverse_transform(predict_test)\n",
    "predict_test[:5]"
   ]
  },
  {
   "cell_type": "code",
   "execution_count": 175,
   "metadata": {
    "ExecuteTime": {
     "end_time": "2021-08-12T09:34:35.864942Z",
     "start_time": "2021-08-12T09:34:35.557557Z"
    },
    "colab": {
     "base_uri": "https://localhost:8080/",
     "height": 226
    },
    "executionInfo": {
     "elapsed": 383,
     "status": "ok",
     "timestamp": 1628745229324,
     "user": {
      "displayName": "Hafidh Soekma Ardiansyah",
      "photoUrl": "https://lh3.googleusercontent.com/a-/AOh14Gin-eP15hz0RSVdywgijS-FLFXprI3uQT6FVENejA=s64",
      "userId": "12754215697376892836"
     },
     "user_tz": -420
    },
    "id": "WTDq4FBOxk08",
    "outputId": "3bb56aa5-6ee3-4e52-a129-c44e694ab1a9"
   },
   "outputs": [
    {
     "data": {
      "text/html": [
       "<div>\n",
       "<style scoped>\n",
       "    .dataframe tbody tr th:only-of-type {\n",
       "        vertical-align: middle;\n",
       "    }\n",
       "\n",
       "    .dataframe tbody tr th {\n",
       "        vertical-align: top;\n",
       "    }\n",
       "\n",
       "    .dataframe thead th {\n",
       "        text-align: right;\n",
       "    }\n",
       "</style>\n",
       "<table border=\"1\" class=\"dataframe\">\n",
       "  <thead>\n",
       "    <tr style=\"text-align: right;\">\n",
       "      <th></th>\n",
       "      <th>User_ID</th>\n",
       "      <th>Product_ID</th>\n",
       "      <th>Gender</th>\n",
       "      <th>Age</th>\n",
       "      <th>Occupation</th>\n",
       "      <th>City_Category</th>\n",
       "      <th>Stay_In_Current_City_Years</th>\n",
       "      <th>Marital_Status</th>\n",
       "      <th>Product_Category_1</th>\n",
       "      <th>Product_Category_2</th>\n",
       "      <th>Product_Category_3</th>\n",
       "    </tr>\n",
       "  </thead>\n",
       "  <tbody>\n",
       "    <tr>\n",
       "      <th>0</th>\n",
       "      <td>1000004</td>\n",
       "      <td>P00128942</td>\n",
       "      <td>M</td>\n",
       "      <td>46-50</td>\n",
       "      <td>7</td>\n",
       "      <td>B</td>\n",
       "      <td>2</td>\n",
       "      <td>1</td>\n",
       "      <td>1</td>\n",
       "      <td>11.0</td>\n",
       "      <td>NaN</td>\n",
       "    </tr>\n",
       "    <tr>\n",
       "      <th>1</th>\n",
       "      <td>1000009</td>\n",
       "      <td>P00113442</td>\n",
       "      <td>M</td>\n",
       "      <td>26-35</td>\n",
       "      <td>17</td>\n",
       "      <td>C</td>\n",
       "      <td>0</td>\n",
       "      <td>0</td>\n",
       "      <td>3</td>\n",
       "      <td>5.0</td>\n",
       "      <td>NaN</td>\n",
       "    </tr>\n",
       "    <tr>\n",
       "      <th>2</th>\n",
       "      <td>1000010</td>\n",
       "      <td>P00288442</td>\n",
       "      <td>F</td>\n",
       "      <td>36-45</td>\n",
       "      <td>1</td>\n",
       "      <td>B</td>\n",
       "      <td>4+</td>\n",
       "      <td>1</td>\n",
       "      <td>5</td>\n",
       "      <td>14.0</td>\n",
       "      <td>NaN</td>\n",
       "    </tr>\n",
       "    <tr>\n",
       "      <th>3</th>\n",
       "      <td>1000010</td>\n",
       "      <td>P00145342</td>\n",
       "      <td>F</td>\n",
       "      <td>36-45</td>\n",
       "      <td>1</td>\n",
       "      <td>B</td>\n",
       "      <td>4+</td>\n",
       "      <td>1</td>\n",
       "      <td>4</td>\n",
       "      <td>9.0</td>\n",
       "      <td>NaN</td>\n",
       "    </tr>\n",
       "    <tr>\n",
       "      <th>4</th>\n",
       "      <td>1000011</td>\n",
       "      <td>P00053842</td>\n",
       "      <td>F</td>\n",
       "      <td>26-35</td>\n",
       "      <td>1</td>\n",
       "      <td>C</td>\n",
       "      <td>1</td>\n",
       "      <td>0</td>\n",
       "      <td>4</td>\n",
       "      <td>5.0</td>\n",
       "      <td>12.0</td>\n",
       "    </tr>\n",
       "  </tbody>\n",
       "</table>\n",
       "</div>"
      ],
      "text/plain": [
       "   User_ID Product_ID Gender    Age  Occupation City_Category  \\\n",
       "0  1000004  P00128942      M  46-50           7             B   \n",
       "1  1000009  P00113442      M  26-35          17             C   \n",
       "2  1000010  P00288442      F  36-45           1             B   \n",
       "3  1000010  P00145342      F  36-45           1             B   \n",
       "4  1000011  P00053842      F  26-35           1             C   \n",
       "\n",
       "  Stay_In_Current_City_Years  Marital_Status  Product_Category_1  \\\n",
       "0                          2               1                   1   \n",
       "1                          0               0                   3   \n",
       "2                         4+               1                   5   \n",
       "3                         4+               1                   4   \n",
       "4                          1               0                   4   \n",
       "\n",
       "   Product_Category_2  Product_Category_3  \n",
       "0                11.0                 NaN  \n",
       "1                 5.0                 NaN  \n",
       "2                14.0                 NaN  \n",
       "3                 9.0                 NaN  \n",
       "4                 5.0                12.0  "
      ]
     },
     "execution_count": 175,
     "metadata": {},
     "output_type": "execute_result"
    }
   ],
   "source": [
    "# Import Data New Test\n",
    "data_test = pd.read_csv(\"./data_test.csv\")\n",
    "data_test.head()"
   ]
  },
  {
   "cell_type": "code",
   "execution_count": 176,
   "metadata": {
    "ExecuteTime": {
     "end_time": "2021-08-12T09:34:35.896205Z",
     "start_time": "2021-08-12T09:34:35.864942Z"
    },
    "colab": {
     "base_uri": "https://localhost:8080/",
     "height": 423
    },
    "executionInfo": {
     "elapsed": 383,
     "status": "ok",
     "timestamp": 1628745363040,
     "user": {
      "displayName": "Hafidh Soekma Ardiansyah",
      "photoUrl": "https://lh3.googleusercontent.com/a-/AOh14Gin-eP15hz0RSVdywgijS-FLFXprI3uQT6FVENejA=s64",
      "userId": "12754215697376892836"
     },
     "user_tz": -420
    },
    "id": "elXyj0w8x9zk",
    "outputId": "de34fac4-32db-4c4b-801b-b52f33095a32"
   },
   "outputs": [
    {
     "data": {
      "text/html": [
       "<div>\n",
       "<style scoped>\n",
       "    .dataframe tbody tr th:only-of-type {\n",
       "        vertical-align: middle;\n",
       "    }\n",
       "\n",
       "    .dataframe tbody tr th {\n",
       "        vertical-align: top;\n",
       "    }\n",
       "\n",
       "    .dataframe thead th {\n",
       "        text-align: right;\n",
       "    }\n",
       "</style>\n",
       "<table border=\"1\" class=\"dataframe\">\n",
       "  <thead>\n",
       "    <tr style=\"text-align: right;\">\n",
       "      <th></th>\n",
       "      <th>User_ID</th>\n",
       "      <th>Product_ID</th>\n",
       "    </tr>\n",
       "  </thead>\n",
       "  <tbody>\n",
       "    <tr>\n",
       "      <th>0</th>\n",
       "      <td>1000004</td>\n",
       "      <td>P00128942</td>\n",
       "    </tr>\n",
       "    <tr>\n",
       "      <th>1</th>\n",
       "      <td>1000009</td>\n",
       "      <td>P00113442</td>\n",
       "    </tr>\n",
       "    <tr>\n",
       "      <th>2</th>\n",
       "      <td>1000010</td>\n",
       "      <td>P00288442</td>\n",
       "    </tr>\n",
       "    <tr>\n",
       "      <th>3</th>\n",
       "      <td>1000010</td>\n",
       "      <td>P00145342</td>\n",
       "    </tr>\n",
       "    <tr>\n",
       "      <th>4</th>\n",
       "      <td>1000011</td>\n",
       "      <td>P00053842</td>\n",
       "    </tr>\n",
       "    <tr>\n",
       "      <th>...</th>\n",
       "      <td>...</td>\n",
       "      <td>...</td>\n",
       "    </tr>\n",
       "    <tr>\n",
       "      <th>233594</th>\n",
       "      <td>1006036</td>\n",
       "      <td>P00118942</td>\n",
       "    </tr>\n",
       "    <tr>\n",
       "      <th>233595</th>\n",
       "      <td>1006036</td>\n",
       "      <td>P00254642</td>\n",
       "    </tr>\n",
       "    <tr>\n",
       "      <th>233596</th>\n",
       "      <td>1006036</td>\n",
       "      <td>P00031842</td>\n",
       "    </tr>\n",
       "    <tr>\n",
       "      <th>233597</th>\n",
       "      <td>1006037</td>\n",
       "      <td>P00124742</td>\n",
       "    </tr>\n",
       "    <tr>\n",
       "      <th>233598</th>\n",
       "      <td>1006039</td>\n",
       "      <td>P00316642</td>\n",
       "    </tr>\n",
       "  </tbody>\n",
       "</table>\n",
       "<p>233599 rows × 2 columns</p>\n",
       "</div>"
      ],
      "text/plain": [
       "        User_ID Product_ID\n",
       "0       1000004  P00128942\n",
       "1       1000009  P00113442\n",
       "2       1000010  P00288442\n",
       "3       1000010  P00145342\n",
       "4       1000011  P00053842\n",
       "...         ...        ...\n",
       "233594  1006036  P00118942\n",
       "233595  1006036  P00254642\n",
       "233596  1006036  P00031842\n",
       "233597  1006037  P00124742\n",
       "233598  1006039  P00316642\n",
       "\n",
       "[233599 rows x 2 columns]"
      ]
     },
     "execution_count": 176,
     "metadata": {},
     "output_type": "execute_result"
    }
   ],
   "source": [
    "# Drop Columns\n",
    "data_test = data_test.iloc[:, 0:2]\n",
    "data_test"
   ]
  },
  {
   "cell_type": "code",
   "execution_count": 177,
   "metadata": {
    "ExecuteTime": {
     "end_time": "2021-08-12T09:34:35.980869Z",
     "start_time": "2021-08-12T09:34:35.896205Z"
    },
    "colab": {
     "base_uri": "https://localhost:8080/",
     "height": 423
    },
    "executionInfo": {
     "elapsed": 403,
     "status": "ok",
     "timestamp": 1628745402452,
     "user": {
      "displayName": "Hafidh Soekma Ardiansyah",
      "photoUrl": "https://lh3.googleusercontent.com/a-/AOh14Gin-eP15hz0RSVdywgijS-FLFXprI3uQT6FVENejA=s64",
      "userId": "12754215697376892836"
     },
     "user_tz": -420
    },
    "id": "YP52LqDIyJXT",
    "outputId": "cd0ce2de-e719-4e25-f93c-4cb30a748e75"
   },
   "outputs": [
    {
     "data": {
      "text/html": [
       "<div>\n",
       "<style scoped>\n",
       "    .dataframe tbody tr th:only-of-type {\n",
       "        vertical-align: middle;\n",
       "    }\n",
       "\n",
       "    .dataframe tbody tr th {\n",
       "        vertical-align: top;\n",
       "    }\n",
       "\n",
       "    .dataframe thead th {\n",
       "        text-align: right;\n",
       "    }\n",
       "</style>\n",
       "<table border=\"1\" class=\"dataframe\">\n",
       "  <thead>\n",
       "    <tr style=\"text-align: right;\">\n",
       "      <th></th>\n",
       "      <th>User_ID</th>\n",
       "      <th>Product_ID</th>\n",
       "      <th>Purchase</th>\n",
       "    </tr>\n",
       "  </thead>\n",
       "  <tbody>\n",
       "    <tr>\n",
       "      <th>0</th>\n",
       "      <td>1000004</td>\n",
       "      <td>P00128942</td>\n",
       "      <td>12620.408203</td>\n",
       "    </tr>\n",
       "    <tr>\n",
       "      <th>1</th>\n",
       "      <td>1000009</td>\n",
       "      <td>P00113442</td>\n",
       "      <td>10332.085938</td>\n",
       "    </tr>\n",
       "    <tr>\n",
       "      <th>2</th>\n",
       "      <td>1000010</td>\n",
       "      <td>P00288442</td>\n",
       "      <td>7257.393555</td>\n",
       "    </tr>\n",
       "    <tr>\n",
       "      <th>3</th>\n",
       "      <td>1000010</td>\n",
       "      <td>P00145342</td>\n",
       "      <td>6862.922363</td>\n",
       "    </tr>\n",
       "    <tr>\n",
       "      <th>4</th>\n",
       "      <td>1000011</td>\n",
       "      <td>P00053842</td>\n",
       "      <td>6735.459961</td>\n",
       "    </tr>\n",
       "    <tr>\n",
       "      <th>...</th>\n",
       "      <td>...</td>\n",
       "      <td>...</td>\n",
       "      <td>...</td>\n",
       "    </tr>\n",
       "    <tr>\n",
       "      <th>233594</th>\n",
       "      <td>1006036</td>\n",
       "      <td>P00118942</td>\n",
       "      <td>7973.310547</td>\n",
       "    </tr>\n",
       "    <tr>\n",
       "      <th>233595</th>\n",
       "      <td>1006036</td>\n",
       "      <td>P00254642</td>\n",
       "      <td>7170.354980</td>\n",
       "    </tr>\n",
       "    <tr>\n",
       "      <th>233596</th>\n",
       "      <td>1006036</td>\n",
       "      <td>P00031842</td>\n",
       "      <td>12646.509766</td>\n",
       "    </tr>\n",
       "    <tr>\n",
       "      <th>233597</th>\n",
       "      <td>1006037</td>\n",
       "      <td>P00124742</td>\n",
       "      <td>8869.728516</td>\n",
       "    </tr>\n",
       "    <tr>\n",
       "      <th>233598</th>\n",
       "      <td>1006039</td>\n",
       "      <td>P00316642</td>\n",
       "      <td>6718.502930</td>\n",
       "    </tr>\n",
       "  </tbody>\n",
       "</table>\n",
       "<p>233599 rows × 3 columns</p>\n",
       "</div>"
      ],
      "text/plain": [
       "        User_ID Product_ID      Purchase\n",
       "0       1000004  P00128942  12620.408203\n",
       "1       1000009  P00113442  10332.085938\n",
       "2       1000010  P00288442   7257.393555\n",
       "3       1000010  P00145342   6862.922363\n",
       "4       1000011  P00053842   6735.459961\n",
       "...         ...        ...           ...\n",
       "233594  1006036  P00118942   7973.310547\n",
       "233595  1006036  P00254642   7170.354980\n",
       "233596  1006036  P00031842  12646.509766\n",
       "233597  1006037  P00124742   8869.728516\n",
       "233598  1006039  P00316642   6718.502930\n",
       "\n",
       "[233599 rows x 3 columns]"
      ]
     },
     "execution_count": 177,
     "metadata": {},
     "output_type": "execute_result"
    }
   ],
   "source": [
    "# Take Predict Data into Data Test\n",
    "data_test[[\"Purchase\"]] = predict_test\n",
    "data_test"
   ]
  },
  {
   "cell_type": "code",
   "execution_count": 178,
   "metadata": {
    "ExecuteTime": {
     "end_time": "2021-08-12T09:34:36.027744Z",
     "start_time": "2021-08-12T09:34:35.980869Z"
    }
   },
   "outputs": [
    {
     "name": "stdout",
     "output_type": "stream",
     "text": [
      "<class 'pandas.core.frame.DataFrame'>\n",
      "RangeIndex: 233599 entries, 0 to 233598\n",
      "Data columns (total 3 columns):\n",
      " #   Column      Non-Null Count   Dtype \n",
      "---  ------      --------------   ----- \n",
      " 0   User_ID     233599 non-null  int64 \n",
      " 1   Product_ID  233599 non-null  object\n",
      " 2   Purchase    233599 non-null  int64 \n",
      "dtypes: int64(2), object(1)\n",
      "memory usage: 5.3+ MB\n"
     ]
    }
   ],
   "source": [
    "# Change Data Type\n",
    "data_test[[\"Purchase\"]] = data_test[[\"Purchase\"]].astype(\"int64\")\n",
    "data_test.info()"
   ]
  },
  {
   "cell_type": "code",
   "execution_count": 179,
   "metadata": {
    "ExecuteTime": {
     "end_time": "2021-08-12T09:34:36.065554Z",
     "start_time": "2021-08-12T09:34:36.027744Z"
    },
    "colab": {
     "base_uri": "https://localhost:8080/",
     "height": 206
    },
    "executionInfo": {
     "elapsed": 396,
     "status": "ok",
     "timestamp": 1628745642795,
     "user": {
      "displayName": "Hafidh Soekma Ardiansyah",
      "photoUrl": "https://lh3.googleusercontent.com/a-/AOh14Gin-eP15hz0RSVdywgijS-FLFXprI3uQT6FVENejA=s64",
      "userId": "12754215697376892836"
     },
     "user_tz": -420
    },
    "id": "4p2loeu-zAYL",
    "outputId": "650eab54-86af-4d6f-fb26-29d7da7d22e0"
   },
   "outputs": [
    {
     "data": {
      "text/html": [
       "<div>\n",
       "<style scoped>\n",
       "    .dataframe tbody tr th:only-of-type {\n",
       "        vertical-align: middle;\n",
       "    }\n",
       "\n",
       "    .dataframe tbody tr th {\n",
       "        vertical-align: top;\n",
       "    }\n",
       "\n",
       "    .dataframe thead th {\n",
       "        text-align: right;\n",
       "    }\n",
       "</style>\n",
       "<table border=\"1\" class=\"dataframe\">\n",
       "  <thead>\n",
       "    <tr style=\"text-align: right;\">\n",
       "      <th></th>\n",
       "      <th>Purchase</th>\n",
       "      <th>User_ID</th>\n",
       "      <th>Product_ID</th>\n",
       "    </tr>\n",
       "  </thead>\n",
       "  <tbody>\n",
       "    <tr>\n",
       "      <th>0</th>\n",
       "      <td>12620</td>\n",
       "      <td>1000004</td>\n",
       "      <td>P00128942</td>\n",
       "    </tr>\n",
       "    <tr>\n",
       "      <th>1</th>\n",
       "      <td>10332</td>\n",
       "      <td>1000009</td>\n",
       "      <td>P00113442</td>\n",
       "    </tr>\n",
       "    <tr>\n",
       "      <th>2</th>\n",
       "      <td>7257</td>\n",
       "      <td>1000010</td>\n",
       "      <td>P00288442</td>\n",
       "    </tr>\n",
       "    <tr>\n",
       "      <th>3</th>\n",
       "      <td>6862</td>\n",
       "      <td>1000010</td>\n",
       "      <td>P00145342</td>\n",
       "    </tr>\n",
       "    <tr>\n",
       "      <th>4</th>\n",
       "      <td>6735</td>\n",
       "      <td>1000011</td>\n",
       "      <td>P00053842</td>\n",
       "    </tr>\n",
       "  </tbody>\n",
       "</table>\n",
       "</div>"
      ],
      "text/plain": [
       "   Purchase  User_ID Product_ID\n",
       "0     12620  1000004  P00128942\n",
       "1     10332  1000009  P00113442\n",
       "2      7257  1000010  P00288442\n",
       "3      6862  1000010  P00145342\n",
       "4      6735  1000011  P00053842"
      ]
     },
     "execution_count": 179,
     "metadata": {},
     "output_type": "execute_result"
    }
   ],
   "source": [
    "# Change Order Column\n",
    "data_test = data_test[[\"Purchase\", \"User_ID\", \"Product_ID\"]]\n",
    "data_test.head()"
   ]
  },
  {
   "cell_type": "code",
   "execution_count": 180,
   "metadata": {
    "ExecuteTime": {
     "end_time": "2021-08-12T09:34:36.583700Z",
     "start_time": "2021-08-12T09:34:36.065554Z"
    },
    "executionInfo": {
     "elapsed": 344,
     "status": "ok",
     "timestamp": 1628745709970,
     "user": {
      "displayName": "Hafidh Soekma Ardiansyah",
      "photoUrl": "https://lh3.googleusercontent.com/a-/AOh14Gin-eP15hz0RSVdywgijS-FLFXprI3uQT6FVENejA=s64",
      "userId": "12754215697376892836"
     },
     "user_tz": -420
    },
    "id": "rCsBGvabzizw"
   },
   "outputs": [],
   "source": [
    "# Save Into CSV\n",
    "data_test.to_csv(\"predict_test.csv\", index=False)"
   ]
  }
 ],
 "metadata": {
  "accelerator": "GPU",
  "colab": {
   "collapsed_sections": [],
   "name": "jupyter_notebook.ipynb",
   "provenance": []
  },
  "hide_input": false,
  "interpreter": {
   "hash": "b3ba2566441a7c06988d0923437866b63cedc61552a5af99d1f4fb67d367b25f"
  },
  "kernelspec": {
   "display_name": "Python 3",
   "language": "python",
   "name": "python3"
  },
  "language_info": {
   "codemirror_mode": {
    "name": "ipython",
    "version": 3
   },
   "file_extension": ".py",
   "mimetype": "text/x-python",
   "name": "python",
   "nbconvert_exporter": "python",
   "pygments_lexer": "ipython3",
   "version": "3.8.8"
  },
  "varInspector": {
   "cols": {
    "lenName": 16,
    "lenType": 16,
    "lenVar": 40
   },
   "kernels_config": {
    "python": {
     "delete_cmd_postfix": "",
     "delete_cmd_prefix": "del ",
     "library": "var_list.py",
     "varRefreshCmd": "print(var_dic_list())"
    },
    "r": {
     "delete_cmd_postfix": ") ",
     "delete_cmd_prefix": "rm(",
     "library": "var_list.r",
     "varRefreshCmd": "cat(var_dic_list()) "
    }
   },
   "types_to_exclude": [
    "module",
    "function",
    "builtin_function_or_method",
    "instance",
    "_Feature"
   ],
   "window_display": false
  }
 },
 "nbformat": 4,
 "nbformat_minor": 2
}
